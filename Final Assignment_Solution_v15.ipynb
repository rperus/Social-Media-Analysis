{
 "cells": [
  {
   "cell_type": "code",
   "execution_count": null,
   "id": "c6112dec",
   "metadata": {},
   "outputs": [],
   "source": []
  },
  {
   "cell_type": "markdown",
   "id": "7e530e63",
   "metadata": {},
   "source": [
    "# BEMM458J Final assignment"
   ]
  },
  {
   "cell_type": "code",
   "execution_count": null,
   "id": "56adab9d",
   "metadata": {},
   "outputs": [],
   "source": []
  },
  {
   "cell_type": "markdown",
   "id": "d6c84695",
   "metadata": {},
   "source": [
    "## You are a business analyst at the marketing department of Coca Cola. There is an increasing debate on social media in relation to the negative impact of plastic consumption on the environment."
   ]
  },
  {
   "cell_type": "markdown",
   "id": "6c6d6c6c",
   "metadata": {},
   "source": [
    "## As of recently NGOs have started campaigning against Coca Cola and other multinationals. "
   ]
  },
  {
   "cell_type": "markdown",
   "id": "c99fef3d",
   "metadata": {},
   "source": [
    "## General management needs you to conduct an analysis of recent conversations posted on Twitter for the purposes of determining the communication strategies followed by NGOs and how Coca Cola must engage on social media."
   ]
  },
  {
   "cell_type": "code",
   "execution_count": null,
   "id": "5e2aa11f",
   "metadata": {},
   "outputs": [],
   "source": []
  },
  {
   "cell_type": "code",
   "execution_count": 52,
   "id": "54fb5cd6",
   "metadata": {},
   "outputs": [],
   "source": [
    "import pandas as pd\n",
    "import matplotlib.pyplot as plt\n",
    "import seaborn as sns\n",
    "import numpy as np\n",
    "import statsmodels.formula.api as sm\n",
    "from statsmodels.stats import diagnostic as diag\n",
    "import re\n",
    "from wordcloud import WordCloud\n",
    "\n",
    "\n",
    "import statsmodels.api as sm"
   ]
  },
  {
   "cell_type": "code",
   "execution_count": 37,
   "id": "5a5f65a6",
   "metadata": {},
   "outputs": [
    {
     "data": {
      "text/html": [
       "<style>.container { width:100% !important; }</style>"
      ],
      "text/plain": [
       "<IPython.core.display.HTML object>"
      ]
     },
     "metadata": {},
     "output_type": "display_data"
    }
   ],
   "source": [
    "from IPython.core.display import display, HTML\n",
    "display(HTML(\"<style>.container { width:100% !important; }</style>\"))"
   ]
  },
  {
   "cell_type": "code",
   "execution_count": 38,
   "id": "5a27255f",
   "metadata": {},
   "outputs": [],
   "source": [
    "pd.options.display.max_colwidth = 400"
   ]
  },
  {
   "cell_type": "code",
   "execution_count": 39,
   "id": "cab2714d",
   "metadata": {},
   "outputs": [],
   "source": [
    "\n",
    "\n",
    "ConversationsLean=pd.read_csv('../data/ConversationsLean.csv')"
   ]
  },
  {
   "cell_type": "code",
   "execution_count": 40,
   "id": "cf209db0",
   "metadata": {},
   "outputs": [
    {
     "name": "stdout",
     "output_type": "stream",
     "text": [
      "<class 'pandas.core.frame.DataFrame'>\n",
      "RangeIndex: 447 entries, 0 to 446\n",
      "Data columns (total 31 columns):\n",
      " #   Column                       Non-Null Count  Dtype  \n",
      "---  ------                       --------------  -----  \n",
      " 0   Unnamed: 0                   447 non-null    int64  \n",
      " 1   tweet.created_at             447 non-null    object \n",
      " 2   tweet.id                     447 non-null    float64\n",
      " 3   tweet.full_text              447 non-null    object \n",
      " 4   tweet.entities               447 non-null    object \n",
      " 5   tweet.user.id                447 non-null    int64  \n",
      " 6   tweet.user.screen_name       447 non-null    object \n",
      " 7   tweet.user.followers_count   447 non-null    int64  \n",
      " 8   tweet.user.friends_count     447 non-null    int64  \n",
      " 9   tweet.user.favourites_count  447 non-null    int64  \n",
      " 10  tweet.user.statuses_count    447 non-null    int64  \n",
      " 11  tweet.retweet_count          447 non-null    float64\n",
      " 12  tweet.favorite_count         447 non-null    float64\n",
      " 13  tweet.favorited              447 non-null    bool   \n",
      " 14  tweet.retweeted              447 non-null    bool   \n",
      " 15  tweet.lang                   447 non-null    object \n",
      " 16  fetchedAt                    447 non-null    object \n",
      " 17  tweet.full_text_clean        447 non-null    object \n",
      " 18  anger                        447 non-null    float64\n",
      " 19  fear                         447 non-null    float64\n",
      " 20  joy                          447 non-null    float64\n",
      " 21  love                         447 non-null    float64\n",
      " 22  sadness                      447 non-null    float64\n",
      " 23  trust                        447 non-null    float64\n",
      " 24  identity_hate                447 non-null    float64\n",
      " 25  insult                       447 non-null    float64\n",
      " 26  obscene                      447 non-null    float64\n",
      " 27  severe_toxic                 447 non-null    float64\n",
      " 28  threat                       447 non-null    float64\n",
      " 29  toxic                        447 non-null    float64\n",
      " 30  stakeholder                  440 non-null    object \n",
      "dtypes: bool(2), float64(15), int64(6), object(8)\n",
      "memory usage: 102.3+ KB\n"
     ]
    }
   ],
   "source": [
    "ConversationsLean.info()"
   ]
  },
  {
   "cell_type": "code",
   "execution_count": 41,
   "id": "816224bb",
   "metadata": {},
   "outputs": [
    {
     "data": {
      "text/plain": [
       "Unnamed: 0                                                                                                                                                                                                                                                                                                                                                                                                                                   4\n",
       "tweet.created_at                                                                                                                                                                                                                                                                                                                                                                                                    2019-12-17 19:50:37.000000\n",
       "tweet.id                                                                                                                                                                                                                                                                                                                                                                                                                           1.20703e+18\n",
       "tweet.full_text                                                                                                                                                                                                                               Stop plastic pollution at its source. #NoPttGlobalCracker  @GCNewsL @GovMikeDeWine protect our kids’ health and #SavetheOhioRiver #PlanetOrPlastic #BreakFreeFromPlastic https://t.co/xYq2gjm2TY\n",
       "tweet.entities                 {'hashtags': [{'text': 'NoPttGlobalCracker', 'indices': [38, 57]}, {'text': 'SavetheOhioRiver', 'indices': [112, 129]}, {'text': 'PlanetOrPlastic', 'indices': [130, 146]}, {'text': 'BreakFreeFromPlastic', 'indices': [147, 168]}], 'symbols': [], 'user_mentions': [{'screen_name': 'GCNewsl', 'name': 'GCNews', 'id': 1680442778, 'id_str': '1680442778', 'indices': [59, 67]}, {'screen_name': 'GovMike...\n",
       "tweet.user.id                                                                                                                                                                                                                                                                                                                                                                                                                         71310291\n",
       "tweet.user.screen_name                                                                                                                                                                                                                                                                                                                                                                                                         PlasticPollutes\n",
       "tweet.user.followers_count                                                                                                                                                                                                                                                                                                                                                                                                               45953\n",
       "tweet.user.friends_count                                                                                                                                                                                                                                                                                                                                                                                                                  6595\n",
       "tweet.user.favourites_count                                                                                                                                                                                                                                                                                                                                                                                                              13453\n",
       "tweet.user.statuses_count                                                                                                                                                                                                                                                                                                                                                                                                                18732\n",
       "tweet.retweet_count                                                                                                                                                                                                                                                                                                                                                                                                                          4\n",
       "tweet.favorite_count                                                                                                                                                                                                                                                                                                                                                                                                                        12\n",
       "tweet.favorited                                                                                                                                                                                                                                                                                                                                                                                                                          False\n",
       "tweet.retweeted                                                                                                                                                                                                                                                                                                                                                                                                                          False\n",
       "tweet.lang                                                                                                                                                                                                                                                                                                                                                                                                                                  en\n",
       "fetchedAt                                                                                                                                                                                                                                                                                                                                                                                                           2019-12-29 07:02:29.624132\n",
       "tweet.full_text_clean                                                                                                                                                                                                                                                                                                                                               Stop plastic pollution at its source.     protect our kids’ health and    \n",
       "anger                                                                                                                                                                                                                                                                                                                                                                                                                                   0.1169\n",
       "fear                                                                                                                                                                                                                                                                                                                                                                                                                                  0.206122\n",
       "joy                                                                                                                                                                                                                                                                                                                                                                                                                                     0.4375\n",
       "love                                                                                                                                                                                                                                                                                                                                                                                                                                 0.0423767\n",
       "sadness                                                                                                                                                                                                                                                                                                                                                                                                                               0.211166\n",
       "trust                                                                                                                                                                                                                                                                                                                                                                                                                                0.0418169\n",
       "identity_hate                                                                                                                                                                                                                                                                                                                                                                                                                       0.00188033\n",
       "insult                                                                                                                                                                                                                                                                                                                                                                                                                              0.00336857\n",
       "obscene                                                                                                                                                                                                                                                                                                                                                                                                                             0.00359257\n",
       "severe_toxic                                                                                                                                                                                                                                                                                                                                                                                                                        0.00188861\n",
       "threat                                                                                                                                                                                                                                                                                                                                                                                                                              0.00197363\n",
       "toxic                                                                                                                                                                                                                                                                                                                                                                                                                                 0.011558\n",
       "stakeholder                                                                                                                                                                                                                                                                                                                                                                                                                                NGO\n",
       "Name: 50, dtype: object"
      ]
     },
     "execution_count": 41,
     "metadata": {},
     "output_type": "execute_result"
    }
   ],
   "source": [
    "ConversationsLean.iloc[50]"
   ]
  },
  {
   "cell_type": "code",
   "execution_count": 42,
   "id": "3d3cef24",
   "metadata": {},
   "outputs": [
    {
     "data": {
      "text/html": [
       "<div>\n",
       "<style scoped>\n",
       "    .dataframe tbody tr th:only-of-type {\n",
       "        vertical-align: middle;\n",
       "    }\n",
       "\n",
       "    .dataframe tbody tr th {\n",
       "        vertical-align: top;\n",
       "    }\n",
       "\n",
       "    .dataframe thead th {\n",
       "        text-align: right;\n",
       "    }\n",
       "</style>\n",
       "<table border=\"1\" class=\"dataframe\">\n",
       "  <thead>\n",
       "    <tr style=\"text-align: right;\">\n",
       "      <th></th>\n",
       "      <th>Unnamed: 0</th>\n",
       "      <th>tweet.created_at</th>\n",
       "      <th>tweet.id</th>\n",
       "      <th>tweet.full_text</th>\n",
       "      <th>tweet.entities</th>\n",
       "      <th>tweet.user.id</th>\n",
       "      <th>tweet.user.screen_name</th>\n",
       "      <th>tweet.user.followers_count</th>\n",
       "      <th>tweet.user.friends_count</th>\n",
       "      <th>tweet.user.favourites_count</th>\n",
       "      <th>...</th>\n",
       "      <th>love</th>\n",
       "      <th>sadness</th>\n",
       "      <th>trust</th>\n",
       "      <th>identity_hate</th>\n",
       "      <th>insult</th>\n",
       "      <th>obscene</th>\n",
       "      <th>severe_toxic</th>\n",
       "      <th>threat</th>\n",
       "      <th>toxic</th>\n",
       "      <th>stakeholder</th>\n",
       "    </tr>\n",
       "  </thead>\n",
       "  <tbody>\n",
       "    <tr>\n",
       "      <th>262</th>\n",
       "      <td>216</td>\n",
       "      <td>2016-07-01 19:32:04.000000</td>\n",
       "      <td>7.489624e+17</td>\n",
       "      <td>It's a perfect time to follow @PlasticFreeJuly and pledge to give up single use plastic this month! #ff #plasticfreejuly #joinus</td>\n",
       "      <td>{'hashtags': [{'text': 'ff', 'indices': [100, 103]}, {'text': 'plasticfreejuly', 'indices': [104, 120]}, {'text': 'joinus', 'indices': [121, 128]}], 'symbols': [], 'user_mentions': [{'screen_name': 'PlasticFreeJuly', 'name': 'Plastic Free July', 'id': 1229187248, 'id_str': '1229187248', 'indices': [30, 46]}], 'urls': []}</td>\n",
       "      <td>541280211</td>\n",
       "      <td>Algalita</td>\n",
       "      <td>2865</td>\n",
       "      <td>696</td>\n",
       "      <td>1778</td>\n",
       "      <td>...</td>\n",
       "      <td>0.206475</td>\n",
       "      <td>0.081116</td>\n",
       "      <td>0.060406</td>\n",
       "      <td>0.002487</td>\n",
       "      <td>0.002733</td>\n",
       "      <td>0.002399</td>\n",
       "      <td>0.002370</td>\n",
       "      <td>0.002288</td>\n",
       "      <td>0.003948</td>\n",
       "      <td>Scientific</td>\n",
       "    </tr>\n",
       "    <tr>\n",
       "      <th>78</th>\n",
       "      <td>32</td>\n",
       "      <td>2019-04-16 18:20:04.000000</td>\n",
       "      <td>1.118218e+18</td>\n",
       "      <td>@Nestle sells billions of products a day, and 98% of them are packaged in single-use plastic. Join us TODAY as we flood their customer service line with demands to phase out single-use plastic. Call 1-888-918-6672 today! #plasticpollutes #breakfreefromplastic @Greenpeace https://t.co/kXdVWJPaCV</td>\n",
       "      <td>{'hashtags': [{'text': 'plasticpollutes', 'indices': [221, 237]}, {'text': 'breakfreefromplastic', 'indices': [238, 259]}], 'symbols': [], 'user_mentions': [{'screen_name': 'Nestle', 'name': 'Nestlé', 'id': 23085995, 'id_str': '23085995', 'indices': [0, 7]}, {'screen_name': 'Greenpeace', 'name': 'Greenpeace', 'id': 3459051, 'id_str': '3459051', 'indices': [260, 271]}], 'urls': [], 'media': [{'...</td>\n",
       "      <td>71310291</td>\n",
       "      <td>PlasticPollutes</td>\n",
       "      <td>45953</td>\n",
       "      <td>6595</td>\n",
       "      <td>13453</td>\n",
       "      <td>...</td>\n",
       "      <td>0.047251</td>\n",
       "      <td>0.236590</td>\n",
       "      <td>0.049324</td>\n",
       "      <td>0.002232</td>\n",
       "      <td>0.003017</td>\n",
       "      <td>0.002697</td>\n",
       "      <td>0.002305</td>\n",
       "      <td>0.002256</td>\n",
       "      <td>0.004379</td>\n",
       "      <td>NGO</td>\n",
       "    </tr>\n",
       "    <tr>\n",
       "      <th>313</th>\n",
       "      <td>2</td>\n",
       "      <td>2019-08-28 11:43:01.000000</td>\n",
       "      <td>1.166678e+18</td>\n",
       "      <td>Funding available for projects collecting &amp;amp; recycling non-household business waste   https://t.co/PR7bBefCyX #recycling #circulareconomy #funding https://t.co/RgKMFCch1i</td>\n",
       "      <td>{'hashtags': [{'text': 'recycling', 'indices': [113, 123]}, {'text': 'circulareconomy', 'indices': [124, 140]}, {'text': 'funding', 'indices': [141, 149]}], 'symbols': [], 'user_mentions': [], 'urls': [{'url': 'https://t.co/PR7bBefCyX', 'expanded_url': 'https://bit.ly/2YcFhPF', 'display_url': 'bit.ly/2YcFhPF', 'indices': [89, 112]}], 'media': [{'id': 1166677560996052999, 'id_str': '11666775609...</td>\n",
       "      <td>172694825</td>\n",
       "      <td>WRAP_UK</td>\n",
       "      <td>31772</td>\n",
       "      <td>1901</td>\n",
       "      <td>1963</td>\n",
       "      <td>...</td>\n",
       "      <td>0.010775</td>\n",
       "      <td>0.396400</td>\n",
       "      <td>0.020948</td>\n",
       "      <td>0.002373</td>\n",
       "      <td>0.003016</td>\n",
       "      <td>0.002851</td>\n",
       "      <td>0.001867</td>\n",
       "      <td>0.001833</td>\n",
       "      <td>0.006686</td>\n",
       "      <td>OtherInstitution</td>\n",
       "    </tr>\n",
       "  </tbody>\n",
       "</table>\n",
       "<p>3 rows × 31 columns</p>\n",
       "</div>"
      ],
      "text/plain": [
       "     Unnamed: 0            tweet.created_at      tweet.id  \\\n",
       "262         216  2016-07-01 19:32:04.000000  7.489624e+17   \n",
       "78           32  2019-04-16 18:20:04.000000  1.118218e+18   \n",
       "313           2  2019-08-28 11:43:01.000000  1.166678e+18   \n",
       "\n",
       "                                                                                                                                                                                                                                                                                             tweet.full_text  \\\n",
       "262                                                                                                                                                                         It's a perfect time to follow @PlasticFreeJuly and pledge to give up single use plastic this month! #ff #plasticfreejuly #joinus   \n",
       "78   @Nestle sells billions of products a day, and 98% of them are packaged in single-use plastic. Join us TODAY as we flood their customer service line with demands to phase out single-use plastic. Call 1-888-918-6672 today! #plasticpollutes #breakfreefromplastic @Greenpeace https://t.co/kXdVWJPaCV   \n",
       "313                                                                                                                            Funding available for projects collecting &amp; recycling non-household business waste   https://t.co/PR7bBefCyX #recycling #circulareconomy #funding https://t.co/RgKMFCch1i   \n",
       "\n",
       "                                                                                                                                                                                                                                                                                                                                                                                                      tweet.entities  \\\n",
       "262                                                                               {'hashtags': [{'text': 'ff', 'indices': [100, 103]}, {'text': 'plasticfreejuly', 'indices': [104, 120]}, {'text': 'joinus', 'indices': [121, 128]}], 'symbols': [], 'user_mentions': [{'screen_name': 'PlasticFreeJuly', 'name': 'Plastic Free July', 'id': 1229187248, 'id_str': '1229187248', 'indices': [30, 46]}], 'urls': []}   \n",
       "78   {'hashtags': [{'text': 'plasticpollutes', 'indices': [221, 237]}, {'text': 'breakfreefromplastic', 'indices': [238, 259]}], 'symbols': [], 'user_mentions': [{'screen_name': 'Nestle', 'name': 'Nestlé', 'id': 23085995, 'id_str': '23085995', 'indices': [0, 7]}, {'screen_name': 'Greenpeace', 'name': 'Greenpeace', 'id': 3459051, 'id_str': '3459051', 'indices': [260, 271]}], 'urls': [], 'media': [{'...   \n",
       "313  {'hashtags': [{'text': 'recycling', 'indices': [113, 123]}, {'text': 'circulareconomy', 'indices': [124, 140]}, {'text': 'funding', 'indices': [141, 149]}], 'symbols': [], 'user_mentions': [], 'urls': [{'url': 'https://t.co/PR7bBefCyX', 'expanded_url': 'https://bit.ly/2YcFhPF', 'display_url': 'bit.ly/2YcFhPF', 'indices': [89, 112]}], 'media': [{'id': 1166677560996052999, 'id_str': '11666775609...   \n",
       "\n",
       "     tweet.user.id tweet.user.screen_name  tweet.user.followers_count  \\\n",
       "262      541280211               Algalita                        2865   \n",
       "78        71310291        PlasticPollutes                       45953   \n",
       "313      172694825                WRAP_UK                       31772   \n",
       "\n",
       "     tweet.user.friends_count  tweet.user.favourites_count  ...      love  \\\n",
       "262                       696                         1778  ...  0.206475   \n",
       "78                       6595                        13453  ...  0.047251   \n",
       "313                      1901                         1963  ...  0.010775   \n",
       "\n",
       "      sadness     trust  identity_hate    insult   obscene severe_toxic  \\\n",
       "262  0.081116  0.060406       0.002487  0.002733  0.002399     0.002370   \n",
       "78   0.236590  0.049324       0.002232  0.003017  0.002697     0.002305   \n",
       "313  0.396400  0.020948       0.002373  0.003016  0.002851     0.001867   \n",
       "\n",
       "       threat     toxic       stakeholder  \n",
       "262  0.002288  0.003948        Scientific  \n",
       "78   0.002256  0.004379               NGO  \n",
       "313  0.001833  0.006686  OtherInstitution  \n",
       "\n",
       "[3 rows x 31 columns]"
      ]
     },
     "execution_count": 42,
     "metadata": {},
     "output_type": "execute_result"
    }
   ],
   "source": [
    "ConversationsLean.sample(3)"
   ]
  },
  {
   "cell_type": "code",
   "execution_count": 43,
   "id": "f9f853a4",
   "metadata": {},
   "outputs": [
    {
     "data": {
      "text/html": [
       "<div>\n",
       "<style scoped>\n",
       "    .dataframe tbody tr th:only-of-type {\n",
       "        vertical-align: middle;\n",
       "    }\n",
       "\n",
       "    .dataframe tbody tr th {\n",
       "        vertical-align: top;\n",
       "    }\n",
       "\n",
       "    .dataframe thead th {\n",
       "        text-align: right;\n",
       "    }\n",
       "</style>\n",
       "<table border=\"1\" class=\"dataframe\">\n",
       "  <thead>\n",
       "    <tr style=\"text-align: right;\">\n",
       "      <th></th>\n",
       "      <th>Unnamed: 0</th>\n",
       "      <th>tweet.created_at</th>\n",
       "      <th>tweet.id</th>\n",
       "      <th>tweet.full_text</th>\n",
       "      <th>tweet.entities</th>\n",
       "      <th>tweet.user.id</th>\n",
       "      <th>tweet.user.screen_name</th>\n",
       "      <th>tweet.user.followers_count</th>\n",
       "      <th>tweet.user.friends_count</th>\n",
       "      <th>tweet.user.favourites_count</th>\n",
       "      <th>...</th>\n",
       "      <th>joy</th>\n",
       "      <th>love</th>\n",
       "      <th>sadness</th>\n",
       "      <th>trust</th>\n",
       "      <th>identity_hate</th>\n",
       "      <th>insult</th>\n",
       "      <th>obscene</th>\n",
       "      <th>severe_toxic</th>\n",
       "      <th>threat</th>\n",
       "      <th>toxic</th>\n",
       "    </tr>\n",
       "    <tr>\n",
       "      <th>stakeholder</th>\n",
       "      <th></th>\n",
       "      <th></th>\n",
       "      <th></th>\n",
       "      <th></th>\n",
       "      <th></th>\n",
       "      <th></th>\n",
       "      <th></th>\n",
       "      <th></th>\n",
       "      <th></th>\n",
       "      <th></th>\n",
       "      <th></th>\n",
       "      <th></th>\n",
       "      <th></th>\n",
       "      <th></th>\n",
       "      <th></th>\n",
       "      <th></th>\n",
       "      <th></th>\n",
       "      <th></th>\n",
       "      <th></th>\n",
       "      <th></th>\n",
       "      <th></th>\n",
       "    </tr>\n",
       "  </thead>\n",
       "  <tbody>\n",
       "    <tr>\n",
       "      <th>Artist</th>\n",
       "      <td>104</td>\n",
       "      <td>104</td>\n",
       "      <td>104</td>\n",
       "      <td>104</td>\n",
       "      <td>104</td>\n",
       "      <td>104</td>\n",
       "      <td>104</td>\n",
       "      <td>104</td>\n",
       "      <td>104</td>\n",
       "      <td>104</td>\n",
       "      <td>...</td>\n",
       "      <td>104</td>\n",
       "      <td>104</td>\n",
       "      <td>104</td>\n",
       "      <td>104</td>\n",
       "      <td>104</td>\n",
       "      <td>104</td>\n",
       "      <td>104</td>\n",
       "      <td>104</td>\n",
       "      <td>104</td>\n",
       "      <td>104</td>\n",
       "    </tr>\n",
       "    <tr>\n",
       "      <th>Multinational</th>\n",
       "      <td>20</td>\n",
       "      <td>20</td>\n",
       "      <td>20</td>\n",
       "      <td>20</td>\n",
       "      <td>20</td>\n",
       "      <td>20</td>\n",
       "      <td>20</td>\n",
       "      <td>20</td>\n",
       "      <td>20</td>\n",
       "      <td>20</td>\n",
       "      <td>...</td>\n",
       "      <td>20</td>\n",
       "      <td>20</td>\n",
       "      <td>20</td>\n",
       "      <td>20</td>\n",
       "      <td>20</td>\n",
       "      <td>20</td>\n",
       "      <td>20</td>\n",
       "      <td>20</td>\n",
       "      <td>20</td>\n",
       "      <td>20</td>\n",
       "    </tr>\n",
       "    <tr>\n",
       "      <th>NGO</th>\n",
       "      <td>241</td>\n",
       "      <td>241</td>\n",
       "      <td>241</td>\n",
       "      <td>241</td>\n",
       "      <td>241</td>\n",
       "      <td>241</td>\n",
       "      <td>241</td>\n",
       "      <td>241</td>\n",
       "      <td>241</td>\n",
       "      <td>241</td>\n",
       "      <td>...</td>\n",
       "      <td>241</td>\n",
       "      <td>241</td>\n",
       "      <td>241</td>\n",
       "      <td>241</td>\n",
       "      <td>241</td>\n",
       "      <td>241</td>\n",
       "      <td>241</td>\n",
       "      <td>241</td>\n",
       "      <td>241</td>\n",
       "      <td>241</td>\n",
       "    </tr>\n",
       "    <tr>\n",
       "      <th>OtherInstitution</th>\n",
       "      <td>51</td>\n",
       "      <td>51</td>\n",
       "      <td>51</td>\n",
       "      <td>51</td>\n",
       "      <td>51</td>\n",
       "      <td>51</td>\n",
       "      <td>51</td>\n",
       "      <td>51</td>\n",
       "      <td>51</td>\n",
       "      <td>51</td>\n",
       "      <td>...</td>\n",
       "      <td>51</td>\n",
       "      <td>51</td>\n",
       "      <td>51</td>\n",
       "      <td>51</td>\n",
       "      <td>51</td>\n",
       "      <td>51</td>\n",
       "      <td>51</td>\n",
       "      <td>51</td>\n",
       "      <td>51</td>\n",
       "      <td>51</td>\n",
       "    </tr>\n",
       "    <tr>\n",
       "      <th>Scientific</th>\n",
       "      <td>24</td>\n",
       "      <td>24</td>\n",
       "      <td>24</td>\n",
       "      <td>24</td>\n",
       "      <td>24</td>\n",
       "      <td>24</td>\n",
       "      <td>24</td>\n",
       "      <td>24</td>\n",
       "      <td>24</td>\n",
       "      <td>24</td>\n",
       "      <td>...</td>\n",
       "      <td>24</td>\n",
       "      <td>24</td>\n",
       "      <td>24</td>\n",
       "      <td>24</td>\n",
       "      <td>24</td>\n",
       "      <td>24</td>\n",
       "      <td>24</td>\n",
       "      <td>24</td>\n",
       "      <td>24</td>\n",
       "      <td>24</td>\n",
       "    </tr>\n",
       "  </tbody>\n",
       "</table>\n",
       "<p>5 rows × 30 columns</p>\n",
       "</div>"
      ],
      "text/plain": [
       "                  Unnamed: 0  tweet.created_at  tweet.id  tweet.full_text  \\\n",
       "stakeholder                                                                 \n",
       "Artist                   104               104       104              104   \n",
       "Multinational             20                20        20               20   \n",
       "NGO                      241               241       241              241   \n",
       "OtherInstitution          51                51        51               51   \n",
       "Scientific                24                24        24               24   \n",
       "\n",
       "                  tweet.entities  tweet.user.id  tweet.user.screen_name  \\\n",
       "stakeholder                                                               \n",
       "Artist                       104            104                     104   \n",
       "Multinational                 20             20                      20   \n",
       "NGO                          241            241                     241   \n",
       "OtherInstitution              51             51                      51   \n",
       "Scientific                    24             24                      24   \n",
       "\n",
       "                  tweet.user.followers_count  tweet.user.friends_count  \\\n",
       "stakeholder                                                              \n",
       "Artist                                   104                       104   \n",
       "Multinational                             20                        20   \n",
       "NGO                                      241                       241   \n",
       "OtherInstitution                          51                        51   \n",
       "Scientific                                24                        24   \n",
       "\n",
       "                  tweet.user.favourites_count  ...  joy  love  sadness  trust  \\\n",
       "stakeholder                                    ...                              \n",
       "Artist                                    104  ...  104   104      104    104   \n",
       "Multinational                              20  ...   20    20       20     20   \n",
       "NGO                                       241  ...  241   241      241    241   \n",
       "OtherInstitution                           51  ...   51    51       51     51   \n",
       "Scientific                                 24  ...   24    24       24     24   \n",
       "\n",
       "                  identity_hate  insult  obscene  severe_toxic  threat  toxic  \n",
       "stakeholder                                                                    \n",
       "Artist                      104     104      104           104     104    104  \n",
       "Multinational                20      20       20            20      20     20  \n",
       "NGO                         241     241      241           241     241    241  \n",
       "OtherInstitution             51      51       51            51      51     51  \n",
       "Scientific                   24      24       24            24      24     24  \n",
       "\n",
       "[5 rows x 30 columns]"
      ]
     },
     "execution_count": 43,
     "metadata": {},
     "output_type": "execute_result"
    }
   ],
   "source": [
    "ConversationsLean.groupby('stakeholder').count()"
   ]
  },
  {
   "cell_type": "code",
   "execution_count": null,
   "id": "4bf899c0",
   "metadata": {},
   "outputs": [],
   "source": []
  },
  {
   "cell_type": "markdown",
   "id": "f3cb837b",
   "metadata": {},
   "source": [
    "## Task 1. Which Twitter users are the most popular ? (10%)\n",
    "### For each Task please: (1) develop the code required and (2) provide a brief discussion and interpretation of the results"
   ]
  },
  {
   "cell_type": "markdown",
   "id": "db41b4b7",
   "metadata": {},
   "source": [
    "### Tip: consider retweet and favorite counts as proxies for popularity"
   ]
  },
  {
   "cell_type": "markdown",
   "id": "fce01fe0",
   "metadata": {},
   "source": [
    "<h1><span style=\"color: #008000;\"><strong>1a. Top 5 most popular users by number of Retweets.</strong></span></h1>"
   ]
  },
  {
   "cell_type": "code",
   "execution_count": 44,
   "id": "0fdfafc6",
   "metadata": {
    "scrolled": true
   },
   "outputs": [
    {
     "data": {
      "text/html": [
       "<div>\n",
       "<style scoped>\n",
       "    .dataframe tbody tr th:only-of-type {\n",
       "        vertical-align: middle;\n",
       "    }\n",
       "\n",
       "    .dataframe tbody tr th {\n",
       "        vertical-align: top;\n",
       "    }\n",
       "\n",
       "    .dataframe thead th {\n",
       "        text-align: right;\n",
       "    }\n",
       "</style>\n",
       "<table border=\"1\" class=\"dataframe\">\n",
       "  <thead>\n",
       "    <tr style=\"text-align: right;\">\n",
       "      <th></th>\n",
       "      <th>Retweets</th>\n",
       "    </tr>\n",
       "    <tr>\n",
       "      <th>User</th>\n",
       "      <th></th>\n",
       "    </tr>\n",
       "  </thead>\n",
       "  <tbody>\n",
       "    <tr>\n",
       "      <th>PlasticPollutes</th>\n",
       "      <td>4242.0</td>\n",
       "    </tr>\n",
       "    <tr>\n",
       "      <th>Greenpeace</th>\n",
       "      <td>3941.0</td>\n",
       "    </tr>\n",
       "    <tr>\n",
       "      <th>5gyres</th>\n",
       "      <td>569.0</td>\n",
       "    </tr>\n",
       "    <tr>\n",
       "      <th>Algalita</th>\n",
       "      <td>540.0</td>\n",
       "    </tr>\n",
       "    <tr>\n",
       "      <th>WRAP_UK</th>\n",
       "      <td>474.0</td>\n",
       "    </tr>\n",
       "    <tr>\n",
       "      <th>NoPlasticStraws</th>\n",
       "      <td>453.0</td>\n",
       "    </tr>\n",
       "    <tr>\n",
       "      <th>Nestle</th>\n",
       "      <td>228.0</td>\n",
       "    </tr>\n",
       "    <tr>\n",
       "      <th>PlasticfreeBeth</th>\n",
       "      <td>147.0</td>\n",
       "    </tr>\n",
       "    <tr>\n",
       "      <th>Unilever</th>\n",
       "      <td>111.0</td>\n",
       "    </tr>\n",
       "    <tr>\n",
       "      <th>DRussoInnovate</th>\n",
       "      <td>91.0</td>\n",
       "    </tr>\n",
       "    <tr>\n",
       "      <th>HealTheBay</th>\n",
       "      <td>66.0</td>\n",
       "    </tr>\n",
       "    <tr>\n",
       "      <th>MaxLiboiron</th>\n",
       "      <td>56.0</td>\n",
       "    </tr>\n",
       "    <tr>\n",
       "      <th>janettewallis</th>\n",
       "      <td>53.0</td>\n",
       "    </tr>\n",
       "    <tr>\n",
       "      <th>PepsiCo</th>\n",
       "      <td>52.0</td>\n",
       "    </tr>\n",
       "    <tr>\n",
       "      <th>AdvScientists</th>\n",
       "      <td>43.0</td>\n",
       "    </tr>\n",
       "    <tr>\n",
       "      <th>NonToxicRev</th>\n",
       "      <td>43.0</td>\n",
       "    </tr>\n",
       "    <tr>\n",
       "      <th>PlasticOceansUS</th>\n",
       "      <td>38.0</td>\n",
       "    </tr>\n",
       "    <tr>\n",
       "      <th>EndPlasticWaste</th>\n",
       "      <td>38.0</td>\n",
       "    </tr>\n",
       "    <tr>\n",
       "      <th>SongsofJBrowne</th>\n",
       "      <td>17.0</td>\n",
       "    </tr>\n",
       "    <tr>\n",
       "      <th>celinecousteau</th>\n",
       "      <td>15.0</td>\n",
       "    </tr>\n",
       "    <tr>\n",
       "      <th>FlotsamWeaving</th>\n",
       "      <td>13.0</td>\n",
       "    </tr>\n",
       "    <tr>\n",
       "      <th>captainplanetfd</th>\n",
       "      <td>8.0</td>\n",
       "    </tr>\n",
       "    <tr>\n",
       "      <th>GordonJMillar</th>\n",
       "      <td>7.0</td>\n",
       "    </tr>\n",
       "    <tr>\n",
       "      <th>EnvirHealthNews</th>\n",
       "      <td>6.0</td>\n",
       "    </tr>\n",
       "    <tr>\n",
       "      <th>Maqueda</th>\n",
       "      <td>2.0</td>\n",
       "    </tr>\n",
       "    <tr>\n",
       "      <th>AnnaTurns</th>\n",
       "      <td>2.0</td>\n",
       "    </tr>\n",
       "    <tr>\n",
       "      <th>bahaplasmvmnt</th>\n",
       "      <td>0.0</td>\n",
       "    </tr>\n",
       "    <tr>\n",
       "      <th>driftersproject</th>\n",
       "      <td>0.0</td>\n",
       "    </tr>\n",
       "  </tbody>\n",
       "</table>\n",
       "</div>"
      ],
      "text/plain": [
       "                 Retweets\n",
       "User                     \n",
       "PlasticPollutes    4242.0\n",
       "Greenpeace         3941.0\n",
       "5gyres              569.0\n",
       "Algalita            540.0\n",
       "WRAP_UK             474.0\n",
       "NoPlasticStraws     453.0\n",
       "Nestle              228.0\n",
       "PlasticfreeBeth     147.0\n",
       "Unilever            111.0\n",
       "DRussoInnovate       91.0\n",
       "HealTheBay           66.0\n",
       "MaxLiboiron          56.0\n",
       "janettewallis        53.0\n",
       "PepsiCo              52.0\n",
       "AdvScientists        43.0\n",
       "NonToxicRev          43.0\n",
       "PlasticOceansUS      38.0\n",
       "EndPlasticWaste      38.0\n",
       "SongsofJBrowne       17.0\n",
       "celinecousteau       15.0\n",
       "FlotsamWeaving       13.0\n",
       "captainplanetfd       8.0\n",
       "GordonJMillar         7.0\n",
       "EnvirHealthNews       6.0\n",
       "Maqueda               2.0\n",
       "AnnaTurns             2.0\n",
       "bahaplasmvmnt         0.0\n",
       "driftersproject       0.0"
      ]
     },
     "execution_count": 44,
     "metadata": {},
     "output_type": "execute_result"
    }
   ],
   "source": [
    "#Group by the user name the sum of the retweet counts\n",
    "ret=ConversationsLean.groupby(['tweet.user.screen_name']).sum()[['tweet.retweet_count']]\n",
    "ret.columns = ['Retweets']\n",
    "ret.index.names = ['User']\n",
    "#Sort values by retweets\n",
    "ret_sorted=ret.sort_values(by='Retweets',ascending=False)\n",
    "ret_sorted.head(1000)"
   ]
  },
  {
   "cell_type": "code",
   "execution_count": 45,
   "id": "7e16880b",
   "metadata": {
    "scrolled": true
   },
   "outputs": [
    {
     "data": {
      "text/html": [
       "<div>\n",
       "<style scoped>\n",
       "    .dataframe tbody tr th:only-of-type {\n",
       "        vertical-align: middle;\n",
       "    }\n",
       "\n",
       "    .dataframe tbody tr th {\n",
       "        vertical-align: top;\n",
       "    }\n",
       "\n",
       "    .dataframe thead th {\n",
       "        text-align: right;\n",
       "    }\n",
       "</style>\n",
       "<table border=\"1\" class=\"dataframe\">\n",
       "  <thead>\n",
       "    <tr style=\"text-align: right;\">\n",
       "      <th></th>\n",
       "      <th>Retweets</th>\n",
       "    </tr>\n",
       "    <tr>\n",
       "      <th>User</th>\n",
       "      <th></th>\n",
       "    </tr>\n",
       "  </thead>\n",
       "  <tbody>\n",
       "    <tr>\n",
       "      <th>PlasticPollutes</th>\n",
       "      <td>4242.0</td>\n",
       "    </tr>\n",
       "    <tr>\n",
       "      <th>Greenpeace</th>\n",
       "      <td>3941.0</td>\n",
       "    </tr>\n",
       "    <tr>\n",
       "      <th>5gyres</th>\n",
       "      <td>569.0</td>\n",
       "    </tr>\n",
       "    <tr>\n",
       "      <th>Algalita</th>\n",
       "      <td>540.0</td>\n",
       "    </tr>\n",
       "    <tr>\n",
       "      <th>WRAP_UK</th>\n",
       "      <td>474.0</td>\n",
       "    </tr>\n",
       "    <tr>\n",
       "      <th>Others</th>\n",
       "      <td>1489.0</td>\n",
       "    </tr>\n",
       "  </tbody>\n",
       "</table>\n",
       "</div>"
      ],
      "text/plain": [
       "                 Retweets\n",
       "User                     \n",
       "PlasticPollutes    4242.0\n",
       "Greenpeace         3941.0\n",
       "5gyres              569.0\n",
       "Algalita            540.0\n",
       "WRAP_UK             474.0\n",
       "Others             1489.0"
      ]
     },
     "execution_count": 45,
     "metadata": {},
     "output_type": "execute_result"
    }
   ],
   "source": [
    "#Create adataframe with top 5 users  by number of Retweets\n",
    "ret_sorted_5= ret_sorted[:5]\n",
    "ret_sorted_5\n",
    "#Create a dataframe with the rest of users\n",
    "ret_others_df= ret_sorted[5:]\n",
    "#Sum all the Retweets other than the top 5\n",
    "Other_retweets=ret_others_df['Retweets'].sum()\n",
    "#Create a new row with the sum of all the Retweets other than the top 5\n",
    "new_row = pd.DataFrame(data = {'Retweets' : [Other_retweets]},index=['Others'])\n",
    "#Create a new dataframe with the top 5 users  by number of Retweets and the rest of users**\n",
    "ret_final = pd.concat([ret_sorted_5, new_row])\n",
    "ret_final.index.names = ['User']\n",
    "ret_final"
   ]
  },
  {
   "cell_type": "code",
   "execution_count": 46,
   "id": "f875f1bd",
   "metadata": {},
   "outputs": [
    {
     "data": {
      "image/png": "[encoded data removed]",
      "text/plain": [
       "<Figure size 1152x576 with 1 Axes>"
      ]
     },
     "metadata": {},
     "output_type": "display_data"
    }
   ],
   "source": [
    "#Plot Top 5 most popular users by number of Retweets.\n",
    "myexplode = [0, 0, 0, 0,0,.1]\n",
    "ret_final.plot.pie(subplots=True, figsize=(16, 8), explode = myexplode,legend=None, fontsize=14)\n",
    "plt.title('1a. Top 5 most popular users by number of Retweets.', fontsize=19,  color='red')\n",
    "plt.ylabel(None)\n",
    "plt.show()"
   ]
  },
  {
   "cell_type": "markdown",
   "id": "0bcff0ee",
   "metadata": {},
   "source": [
    "<h3><span style=\"color: #008000;\">We can observe that PlasticPollutes followed by Greenpeace are the two users that has more Retweets, these users will be considered the mot popular users, followed by 5gyres, algalita and Wrap_UK.</span></h3>\n",
    "<br>"
   ]
  },
  {
   "cell_type": "markdown",
   "id": "ea4e28b9",
   "metadata": {},
   "source": [
    "<h1><span style=\"color: #008000;\"><strong>1b. Top 5 most popular users by number of Favourites.</strong></span></h1>"
   ]
  },
  {
   "cell_type": "code",
   "execution_count": 47,
   "id": "a86b1da5",
   "metadata": {},
   "outputs": [
    {
     "data": {
      "text/html": [
       "<div>\n",
       "<style scoped>\n",
       "    .dataframe tbody tr th:only-of-type {\n",
       "        vertical-align: middle;\n",
       "    }\n",
       "\n",
       "    .dataframe tbody tr th {\n",
       "        vertical-align: top;\n",
       "    }\n",
       "\n",
       "    .dataframe thead th {\n",
       "        text-align: right;\n",
       "    }\n",
       "</style>\n",
       "<table border=\"1\" class=\"dataframe\">\n",
       "  <thead>\n",
       "    <tr style=\"text-align: right;\">\n",
       "      <th></th>\n",
       "      <th>Favourites</th>\n",
       "    </tr>\n",
       "    <tr>\n",
       "      <th>User</th>\n",
       "      <th></th>\n",
       "    </tr>\n",
       "  </thead>\n",
       "  <tbody>\n",
       "    <tr>\n",
       "      <th>Greenpeace</th>\n",
       "      <td>6357.0</td>\n",
       "    </tr>\n",
       "    <tr>\n",
       "      <th>PlasticPollutes</th>\n",
       "      <td>4027.0</td>\n",
       "    </tr>\n",
       "    <tr>\n",
       "      <th>Nestle</th>\n",
       "      <td>688.0</td>\n",
       "    </tr>\n",
       "    <tr>\n",
       "      <th>5gyres</th>\n",
       "      <td>636.0</td>\n",
       "    </tr>\n",
       "    <tr>\n",
       "      <th>WRAP_UK</th>\n",
       "      <td>625.0</td>\n",
       "    </tr>\n",
       "    <tr>\n",
       "      <th>Unilever</th>\n",
       "      <td>215.0</td>\n",
       "    </tr>\n",
       "    <tr>\n",
       "      <th>PepsiCo</th>\n",
       "      <td>154.0</td>\n",
       "    </tr>\n",
       "    <tr>\n",
       "      <th>NoPlasticStraws</th>\n",
       "      <td>117.0</td>\n",
       "    </tr>\n",
       "    <tr>\n",
       "      <th>PlasticfreeBeth</th>\n",
       "      <td>92.0</td>\n",
       "    </tr>\n",
       "    <tr>\n",
       "      <th>HealTheBay</th>\n",
       "      <td>50.0</td>\n",
       "    </tr>\n",
       "    <tr>\n",
       "      <th>celinecousteau</th>\n",
       "      <td>36.0</td>\n",
       "    </tr>\n",
       "    <tr>\n",
       "      <th>FlotsamWeaving</th>\n",
       "      <td>23.0</td>\n",
       "    </tr>\n",
       "    <tr>\n",
       "      <th>Algalita</th>\n",
       "      <td>17.0</td>\n",
       "    </tr>\n",
       "    <tr>\n",
       "      <th>captainplanetfd</th>\n",
       "      <td>9.0</td>\n",
       "    </tr>\n",
       "    <tr>\n",
       "      <th>EndPlasticWaste</th>\n",
       "      <td>8.0</td>\n",
       "    </tr>\n",
       "    <tr>\n",
       "      <th>DRussoInnovate</th>\n",
       "      <td>7.0</td>\n",
       "    </tr>\n",
       "    <tr>\n",
       "      <th>MaxLiboiron</th>\n",
       "      <td>7.0</td>\n",
       "    </tr>\n",
       "    <tr>\n",
       "      <th>AdvScientists</th>\n",
       "      <td>7.0</td>\n",
       "    </tr>\n",
       "    <tr>\n",
       "      <th>EnvirHealthNews</th>\n",
       "      <td>6.0</td>\n",
       "    </tr>\n",
       "    <tr>\n",
       "      <th>SongsofJBrowne</th>\n",
       "      <td>6.0</td>\n",
       "    </tr>\n",
       "    <tr>\n",
       "      <th>driftersproject</th>\n",
       "      <td>4.0</td>\n",
       "    </tr>\n",
       "    <tr>\n",
       "      <th>AnnaTurns</th>\n",
       "      <td>4.0</td>\n",
       "    </tr>\n",
       "    <tr>\n",
       "      <th>Maqueda</th>\n",
       "      <td>1.0</td>\n",
       "    </tr>\n",
       "    <tr>\n",
       "      <th>GordonJMillar</th>\n",
       "      <td>0.0</td>\n",
       "    </tr>\n",
       "    <tr>\n",
       "      <th>bahaplasmvmnt</th>\n",
       "      <td>0.0</td>\n",
       "    </tr>\n",
       "    <tr>\n",
       "      <th>PlasticOceansUS</th>\n",
       "      <td>0.0</td>\n",
       "    </tr>\n",
       "    <tr>\n",
       "      <th>NonToxicRev</th>\n",
       "      <td>0.0</td>\n",
       "    </tr>\n",
       "    <tr>\n",
       "      <th>janettewallis</th>\n",
       "      <td>0.0</td>\n",
       "    </tr>\n",
       "  </tbody>\n",
       "</table>\n",
       "</div>"
      ],
      "text/plain": [
       "                 Favourites\n",
       "User                       \n",
       "Greenpeace           6357.0\n",
       "PlasticPollutes      4027.0\n",
       "Nestle                688.0\n",
       "5gyres                636.0\n",
       "WRAP_UK               625.0\n",
       "Unilever              215.0\n",
       "PepsiCo               154.0\n",
       "NoPlasticStraws       117.0\n",
       "PlasticfreeBeth        92.0\n",
       "HealTheBay             50.0\n",
       "celinecousteau         36.0\n",
       "FlotsamWeaving         23.0\n",
       "Algalita               17.0\n",
       "captainplanetfd         9.0\n",
       "EndPlasticWaste         8.0\n",
       "DRussoInnovate          7.0\n",
       "MaxLiboiron             7.0\n",
       "AdvScientists           7.0\n",
       "EnvirHealthNews         6.0\n",
       "SongsofJBrowne          6.0\n",
       "driftersproject         4.0\n",
       "AnnaTurns               4.0\n",
       "Maqueda                 1.0\n",
       "GordonJMillar           0.0\n",
       "bahaplasmvmnt           0.0\n",
       "PlasticOceansUS         0.0\n",
       "NonToxicRev             0.0\n",
       "janettewallis           0.0"
      ]
     },
     "execution_count": 47,
     "metadata": {},
     "output_type": "execute_result"
    }
   ],
   "source": [
    "#Group by the user name the sum of the Favourites given counts\n",
    "ret2=ConversationsLean.groupby(['tweet.user.screen_name']).sum()[['tweet.favorite_count']]\n",
    "ret2.columns = ['Favourites']\n",
    "ret2.index.names = ['User']\n",
    "#Sort values by retweets\n",
    "ret_sorted2=ret2.sort_values(by='Favourites',ascending=False)\n",
    "ret_sorted2.head(100)"
   ]
  },
  {
   "cell_type": "code",
   "execution_count": 48,
   "id": "f8cf8e86",
   "metadata": {},
   "outputs": [
    {
     "data": {
      "text/html": [
       "<div>\n",
       "<style scoped>\n",
       "    .dataframe tbody tr th:only-of-type {\n",
       "        vertical-align: middle;\n",
       "    }\n",
       "\n",
       "    .dataframe tbody tr th {\n",
       "        vertical-align: top;\n",
       "    }\n",
       "\n",
       "    .dataframe thead th {\n",
       "        text-align: right;\n",
       "    }\n",
       "</style>\n",
       "<table border=\"1\" class=\"dataframe\">\n",
       "  <thead>\n",
       "    <tr style=\"text-align: right;\">\n",
       "      <th></th>\n",
       "      <th>Favourites</th>\n",
       "    </tr>\n",
       "    <tr>\n",
       "      <th>User</th>\n",
       "      <th></th>\n",
       "    </tr>\n",
       "  </thead>\n",
       "  <tbody>\n",
       "    <tr>\n",
       "      <th>Greenpeace</th>\n",
       "      <td>6357.0</td>\n",
       "    </tr>\n",
       "    <tr>\n",
       "      <th>PlasticPollutes</th>\n",
       "      <td>4027.0</td>\n",
       "    </tr>\n",
       "    <tr>\n",
       "      <th>Nestle</th>\n",
       "      <td>688.0</td>\n",
       "    </tr>\n",
       "    <tr>\n",
       "      <th>5gyres</th>\n",
       "      <td>636.0</td>\n",
       "    </tr>\n",
       "    <tr>\n",
       "      <th>WRAP_UK</th>\n",
       "      <td>625.0</td>\n",
       "    </tr>\n",
       "    <tr>\n",
       "      <th>Others</th>\n",
       "      <td>1489.0</td>\n",
       "    </tr>\n",
       "  </tbody>\n",
       "</table>\n",
       "</div>"
      ],
      "text/plain": [
       "                 Favourites\n",
       "User                       \n",
       "Greenpeace           6357.0\n",
       "PlasticPollutes      4027.0\n",
       "Nestle                688.0\n",
       "5gyres                636.0\n",
       "WRAP_UK               625.0\n",
       "Others               1489.0"
      ]
     },
     "execution_count": 48,
     "metadata": {},
     "output_type": "execute_result"
    }
   ],
   "source": [
    "#Create adataframe with top 5 users  by number of Favourites given\n",
    "ret_sorted_5_2= ret_sorted2[:5]\n",
    "#Create a dataframe with the rest of users\n",
    "ret_others_df2= ret_sorted2[5:]\n",
    "#Sum all the Favourites other than the top 5\n",
    "Other_retweets2=ret_others_df2['Favourites'].sum()\n",
    "#Create a new row with the sum of all the Favourites other than the top 5\n",
    "new_row2 = pd.DataFrame(data = {'Favourites' : [Other_retweets]},index=['Others'])\n",
    "#Create a new dataframe with the top 5 users  by number of Favourites and the rest of users**\n",
    "ret_final2 = pd.concat([ret_sorted_5_2, new_row2])\n",
    "ret_final2.index.names = ['User']\n",
    "ret_final2"
   ]
  },
  {
   "cell_type": "code",
   "execution_count": 49,
   "id": "98169376",
   "metadata": {},
   "outputs": [
    {
     "data": {
      "image/png": "[encoded data removed]",
      "text/plain": [
       "<Figure size 1152x576 with 1 Axes>"
      ]
     },
     "metadata": {},
     "output_type": "display_data"
    }
   ],
   "source": [
    "#Plot Top 5 most popular users by number of Favourites.\n",
    "myexplode = [0, 0, 0, 0,0,.1]\n",
    "ret_final2.plot.pie(subplots=True, figsize=(16, 8), explode = myexplode,legend=None, fontsize=14)\n",
    "plt.title('1b. Top 5 most popular users by number of Favourites.', fontsize=19,  color='red')\n",
    "plt.ylabel(None)\n",
    "plt.show()"
   ]
  },
  {
   "cell_type": "markdown",
   "id": "29c63e50",
   "metadata": {},
   "source": [
    "<h3><span style=\"color: #008000;\">We can observe again that Greenpeace  followed by PlasticPollutes are the two users that has more Favourites(likes), these users will be considered the mot popular users, followed by Nestle, 5gyres, and Wrap_UK.</span></h3>\n",
    "<br>"
   ]
  },
  {
   "cell_type": "markdown",
   "id": "7ce1a6e5",
   "metadata": {},
   "source": [
    "<h1><span style=\"color: #008000;\"><strong>1c. Calculating the weighted linear combination of retweets and favourite counts  (50% -50%)</strong></span></h1>"
   ]
  },
  {
   "cell_type": "markdown",
   "id": "5cfd021d",
   "metadata": {},
   "source": [
    "<h3><span style=\"color: #008000;\"> In order to have one list of popularity we can build a model of weighted linear combination of retweets and favourite counts.In this case, we gave equal weight to each element, but the marketing department staff can add some specific weights.<br>\n",
    "    \n",
    "This calculation is achieved by normalizing both columns (forcing them to sum one); then calculte the sum of the columns multiplied by the chosen weight. \n",
    "    \n",
    "</span></h3>\n",
    "<br>\n"
   ]
  },
  {
   "cell_type": "code",
   "execution_count": 50,
   "id": "1ca27077",
   "metadata": {},
   "outputs": [
    {
     "ename": "NameError",
     "evalue": "name 'task1' is not defined",
     "output_type": "error",
     "traceback": [
      "\u001b[1;31m---------------------------------------------------------------------------\u001b[0m",
      "\u001b[1;31mNameError\u001b[0m                                 Traceback (most recent call last)",
      "\u001b[1;32m<ipython-input-50-ae681a976283>\u001b[0m in \u001b[0;36m<module>\u001b[1;34m\u001b[0m\n\u001b[0;32m      1\u001b[0m \u001b[1;31m# Sum all the values for the coulumns retweet and favorite\u001b[0m\u001b[1;33m\u001b[0m\u001b[1;33m\u001b[0m\u001b[1;33m\u001b[0m\u001b[0m\n\u001b[1;32m----> 2\u001b[1;33m \u001b[0msumfav\u001b[0m\u001b[1;33m=\u001b[0m\u001b[0mtask1\u001b[0m\u001b[1;33m[\u001b[0m\u001b[1;33m[\u001b[0m\u001b[1;34m'tweet.user.favourites_count'\u001b[0m\u001b[1;33m]\u001b[0m\u001b[1;33m]\u001b[0m\u001b[1;33m.\u001b[0m\u001b[0msum\u001b[0m\u001b[1;33m(\u001b[0m\u001b[1;33m)\u001b[0m\u001b[1;33m\u001b[0m\u001b[1;33m\u001b[0m\u001b[0m\n\u001b[0m\u001b[0;32m      3\u001b[0m \u001b[0msumret\u001b[0m\u001b[1;33m=\u001b[0m\u001b[0mtask1\u001b[0m\u001b[1;33m[\u001b[0m\u001b[1;33m[\u001b[0m\u001b[1;34m'tweet.retweet_count'\u001b[0m\u001b[1;33m]\u001b[0m\u001b[1;33m]\u001b[0m\u001b[1;33m.\u001b[0m\u001b[0msum\u001b[0m\u001b[1;33m(\u001b[0m\u001b[1;33m)\u001b[0m\u001b[1;33m\u001b[0m\u001b[1;33m\u001b[0m\u001b[0m\n\u001b[0;32m      4\u001b[0m \u001b[1;31m# Normalise each column dividing them by its sum\u001b[0m\u001b[1;33m\u001b[0m\u001b[1;33m\u001b[0m\u001b[1;33m\u001b[0m\u001b[0m\n\u001b[0;32m      5\u001b[0m \u001b[0mretweet_norm\u001b[0m\u001b[1;33m=\u001b[0m\u001b[0mtask1\u001b[0m\u001b[1;33m[\u001b[0m\u001b[1;34m'tweet.retweet_count'\u001b[0m\u001b[1;33m]\u001b[0m\u001b[1;33m.\u001b[0m\u001b[0mapply\u001b[0m\u001b[1;33m(\u001b[0m\u001b[1;32mlambda\u001b[0m \u001b[0mx\u001b[0m\u001b[1;33m:\u001b[0m \u001b[0mx\u001b[0m\u001b[1;33m/\u001b[0m\u001b[0msumret\u001b[0m\u001b[1;33m)\u001b[0m\u001b[1;33m\u001b[0m\u001b[1;33m\u001b[0m\u001b[0m\n",
      "\u001b[1;31mNameError\u001b[0m: name 'task1' is not defined"
     ]
    }
   ],
   "source": [
    "# Sum all the values for the coulumns retweet and favorite\n",
    "sumfav=task1[['tweet.user.favourites_count']].sum()\n",
    "sumret=task1[['tweet.retweet_count']].sum()\n",
    "# Normalise each column dividing them by its sum\n",
    "retweet_norm=task1['tweet.retweet_count'].apply(lambda x: x/sumret)\n",
    "fav_norm=task1['tweet.user.favourites_count'].apply(lambda x: x/sumfav)\n",
    "# Merge the columns into a new dataframe\n",
    "df_merge_col = pd.merge(fav_norm, retweet_norm, on='tweet.user.screen_name')\n",
    "#Calculate the weighted linear combination  of retweets and favourite counts (50%-50%)\n",
    "df_merge_col['weighted_col']=df_merge_col['tweet.user.favourites_count']*.5+df_merge_col['tweet.retweet_count']*.5\n",
    "#Sort the values\n",
    "df_merge_col.sort_values(by='weighted_col',ascending=False).head(10)['weighted_col']\n"
   ]
  },
  {
   "cell_type": "markdown",
   "id": "647e53cd",
   "metadata": {},
   "source": [
    "<h3><span style=\"color: #008000;\"> As in 1a and ib we can conclude that  PlasticPollutes followed by Greenpeace are the most popular users taking in consideration the retweets made and favourites count, these companies together almost acomplish 3/4 of the total counts, followed by other well-known NGOs.</span></h3>\n",
    "<br>"
   ]
  },
  {
   "cell_type": "markdown",
   "id": "977e50cb",
   "metadata": {},
   "source": [
    "## Task 2. Which Stakeholders users are the most emotional ? (10%)\n",
    "### For each Task please: (1) develop the code required and (2) provide a brief discussion and interpretation of the results"
   ]
  },
  {
   "cell_type": "markdown",
   "id": "f63ec642",
   "metadata": {},
   "source": [
    "### Tip: visualize levels of emotions accross stakeholders (NGOs, artists, Multinational)"
   ]
  },
  {
   "cell_type": "code",
   "execution_count": null,
   "id": "84d13c8a",
   "metadata": {},
   "outputs": [],
   "source": [
    "# Group by stakeholders\n",
    "task2=ConversationsLean.groupby(['stakeholder']).mean()[['anger','fear','joy','love','sadness','trust','identity_hate', 'insult', 'obscene', 'severe_toxic', 'threat', 'toxic']]\n",
    "task2"
   ]
  },
  {
   "cell_type": "code",
   "execution_count": null,
   "id": "8e477e2a",
   "metadata": {},
   "outputs": [],
   "source": [
    "# Plot emotions across Stakeholders\n",
    "task2.plot(figsize=(15,10))\n",
    "plt.title('Stakeholders Sentiments', fontsize=19,  color='red')\n",
    "plt.xlabel('Stakeholders', fontsize=15, color='darkblue')\n",
    "plt.ylabel('Values', fontsize=15, color='darkblue')\n",
    "plt.show()"
   ]
  },
  {
   "cell_type": "markdown",
   "id": "ff1e144d",
   "metadata": {},
   "source": [
    "<h3><span style=\"color: #008000;\">It can be concluded that non-governmental organizations have the strongest reactions towards negative emotions such as anger, sadness and fear; artists react more to positive emotions such as love and joy. It is worth mentioning that scientists pparentely respond in a more balanced way between negative and positive emotions.</span></h3>\n",
    "<br>"
   ]
  },
  {
   "cell_type": "markdown",
   "id": "68f6e0e0",
   "metadata": {},
   "source": [
    "## Task 3. Do emotions play a role in the number of retweets and favorites achieved by tweets ? (20 %)\n",
    "### For each Task please: (1) develop the code required and (2) provide a brief discussion and interpretation of the results"
   ]
  },
  {
   "cell_type": "markdown",
   "id": "3cf1b0af",
   "metadata": {},
   "source": [
    "### Tip:  correlations between variables\n",
    "### Tip:  visualizations relating variables\n",
    "### Tip:  optionally consider basic regression models to determine the impact of some variables on others (e.g. impact of love on favorite, impact of fear on retweet)"
   ]
  },
  {
   "cell_type": "markdown",
   "id": "33027586",
   "metadata": {},
   "source": [
    "<h2><span style=\"color: #008000;\"><strong>3a. Create a dataframe with the required data</strong></span></h2>"
   ]
  },
  {
   "cell_type": "code",
   "execution_count": null,
   "id": "408eb047",
   "metadata": {},
   "outputs": [],
   "source": [
    "task3=ConversationsLean.groupby(['tweet.retweet_count','tweet.user.favourites_count']).mean()[['anger','fear','joy','love','sadness','trust','identity_hate', 'insult', 'obscene', 'severe_toxic', 'threat', 'toxic']].reset_index()\n",
    "task3.columns = ['retweet', 'favourites','anger','fear','joy','love','sadness','trust','id_hate', 'insult', 'obscene', 'sevtoxic', 'threat', 'toxic']\n",
    "task3=task3.astype(float)\n",
    "task3.sample(6)"
   ]
  },
  {
   "cell_type": "markdown",
   "id": "f9d362b6",
   "metadata": {},
   "source": [
    "<h2><span style=\"color: #008000;\"><strong>3b. Check for Perfect Multicollinearity</strong></span></h2>"
   ]
  },
  {
   "cell_type": "code",
   "execution_count": null,
   "id": "6188f023",
   "metadata": {},
   "outputs": [],
   "source": [
    "# calculate the correlation matrix  between variables\n",
    "task3_a=task3.drop(['retweet','favourites'], axis = 1)\n",
    "corr=task3_a.corr()\n",
    "display(corr)\n",
    "#Plot the correlation heatmap\n",
    "sns.heatmap(corr, xticklabels=corr.columns, yticklabels=corr.columns, cmap='RdBu')"
   ]
  },
  {
   "cell_type": "code",
   "execution_count": null,
   "id": "4692d13d",
   "metadata": {},
   "outputs": [],
   "source": [
    "#Plot the bivariate relationships between combinations of variables\n",
    "pd.plotting.scatter_matrix(task3_a, alpha = 1, figsize = (14,9))\n",
    "plt.show()"
   ]
  },
  {
   "cell_type": "markdown",
   "id": "6ff6aaef",
   "metadata": {},
   "source": [
    "<h3><span style=\"color: #008000;\">We can observe  variables that are highly linearly related, we will drop that variables so the coefficients in our regression model are not artificially calculated. </span></h3>\n",
    "<br>"
   ]
  },
  {
   "cell_type": "code",
   "execution_count": null,
   "id": "6de33c02",
   "metadata": {},
   "outputs": [],
   "source": [
    "# Eliminate the variables that are highly correlated\n",
    "task3_drop = task3_a.drop(['id_hate','insult','threat','obscene',  'joy',  'fear'], axis = 1)\n"
   ]
  },
  {
   "cell_type": "code",
   "execution_count": null,
   "id": "15565905",
   "metadata": {},
   "outputs": [],
   "source": [
    "# calculate the correlation matrix  between variables\n",
    "corr2=task3_drop.corr()\n",
    "display(corr2)\n",
    "#Plot correlation\n",
    "sns.heatmap(corr2, xticklabels=corr2.columns, yticklabels=corr2.columns, cmap='RdBu')"
   ]
  },
  {
   "cell_type": "code",
   "execution_count": null,
   "id": "8f4991ed",
   "metadata": {},
   "outputs": [],
   "source": [
    "#Plot the bivariate relationships between combinations of variables\n",
    "pd.plotting.scatter_matrix(task3_drop, alpha = 1, figsize = (14,9))\n",
    "plt.show()"
   ]
  },
  {
   "cell_type": "markdown",
   "id": "ec13978f",
   "metadata": {},
   "source": [
    "<h3><span style=\"color: #008000;\">Now we have the variables that are going to initially use our regression model. After that we will  determine the level of importance of each predictor variable and eliminate the variables that are not significant to our regression model.</span></h3>\n",
    "<br>"
   ]
  },
  {
   "cell_type": "markdown",
   "id": "65f4e106",
   "metadata": {},
   "source": [
    "<h2><span style=\"color: #008000;\"><strong>3c. Regression Model of retweets on emotions.</strong></span></h2>"
   ]
  },
  {
   "cell_type": "code",
   "execution_count": null,
   "id": "a2905de9",
   "metadata": {},
   "outputs": [],
   "source": [
    "#Final Regression Model of Retweets on significant variables\n",
    "X = task3[['joy', 'id_hate','insult','obscene']]\n",
    "Y = task3['retweet']\n",
    "model = sm.OLS(Y, X).fit()\n",
    "print_model = model.summary()\n",
    "print(print_model)"
   ]
  },
  {
   "cell_type": "markdown",
   "id": "f90ea416",
   "metadata": {},
   "source": [
    "<h2><span style=\"color: #008000;\"><strong>3d. Regression Model of favourites on emotions.</strong></span></h2>"
   ]
  },
  {
   "cell_type": "code",
   "execution_count": null,
   "id": "25163bfe",
   "metadata": {},
   "outputs": [],
   "source": [
    "#Final Regression Model of favourites on significant variables\n",
    "X1 = task3[['toxic','joy','insult','sevtoxic']]\n",
    "Y1 = task3['favourites']\n",
    "model1 = sm.OLS(Y1, X1).fit()\n",
    "print_model1 = model1.summary()\n",
    "print(print_model1)"
   ]
  },
  {
   "cell_type": "markdown",
   "id": "b8ed0e0e",
   "metadata": {},
   "source": [
    "<h3><span style=\"color: #008000;\">We can conclude that emotions play an essential role in the number of retweets sent and the number of favourites (likes). <br>\n",
    "It is important to note that emotional influence is more significant in favourites counts, which we can observe in the adjusted square R is .557. We also note that negative emotions have a greater impact than positive emotions.</span></h3>\n",
    "<br>"
   ]
  },
  {
   "cell_type": "markdown",
   "id": "7d477d52",
   "metadata": {},
   "source": [
    "## Task 4. Develop and apply a function which: (1) extracts ALL the hashtags from the column 'tweet.full_text', (2) saves the result as a new column (10%)\n",
    "### For each Task please: (1) develop the code required and (2) provide a brief discussion and interpretation of the results"
   ]
  },
  {
   "cell_type": "markdown",
   "id": "87dcb389",
   "metadata": {},
   "source": [
    "### Tip: consider lambda functions applied to a dataframe"
   ]
  },
  {
   "cell_type": "markdown",
   "id": "640d3af6",
   "metadata": {},
   "source": [
    "### Tip: refer to the module labs for examples on how to use REGEX in the context of pandas dataframes"
   ]
  },
  {
   "cell_type": "code",
   "execution_count": null,
   "id": "8e1533de",
   "metadata": {},
   "outputs": [],
   "source": [
    "# Use a lambda function and REGEX to search patterns that contains the hashtags inthe column tweet.full_text\n",
    "ConversationsLean['hashtags_extracted']=ConversationsLean['tweet.full_text'].apply(lambda x:re.findall(r'\\B(\\#[a-zA-Z]+\\b)(?!;)', x))"
   ]
  },
  {
   "cell_type": "code",
   "execution_count": null,
   "id": "e71df4fa",
   "metadata": {},
   "outputs": [],
   "source": [
    "ConversationsLean['hashtags_extracted'].head(15)"
   ]
  },
  {
   "cell_type": "markdown",
   "id": "65d9b721",
   "metadata": {},
   "source": [
    "<h3><span style=\"color: #008000;\">We can clearly observe the hashtags used to get the attention of twitter users. These hashtags are manly about plastic, the pollution it creates, sustainability and recycling. </span></h3>\n",
    "<br>"
   ]
  },
  {
   "cell_type": "markdown",
   "id": "bf34dcd4",
   "metadata": {},
   "source": [
    "## Task 5. what are the differences between stakeholders ?   (30%)"
   ]
  },
  {
   "cell_type": "markdown",
   "id": "6aa74542",
   "metadata": {},
   "source": [
    "### Tip: explore differences in terms of emotions, popularity, hashtags used, number of tweets,etc"
   ]
  },
  {
   "cell_type": "markdown",
   "id": "09c4ce62",
   "metadata": {},
   "source": [
    "<h1><span style=\"color: #008000;\"><strong>5a. Differences in emotions across stakeholders.</strong></span></h1>\n"
   ]
  },
  {
   "cell_type": "markdown",
   "id": "8c058cfe",
   "metadata": {},
   "source": [
    "<h3><span style=\"color: #008000;\"> As we already study emotions across stakeholders in Task 2, we will study negative and positive emotions across stakeholders. </span></h3>\n",
    "<br>"
   ]
  },
  {
   "cell_type": "markdown",
   "id": "6d4cccdf",
   "metadata": {},
   "source": [
    "<h2><span style=\"color: #008000;\"> 5ai. Create a DataFrame of emotions across stakeholders. </span></h2>\n",
    "<br>"
   ]
  },
  {
   "cell_type": "code",
   "execution_count": null,
   "id": "bf35dd29",
   "metadata": {},
   "outputs": [],
   "source": [
    "# Create a Dataframe with  emotions\n",
    "emo=ConversationsLean.groupby(['stakeholder']).mean()[['anger','fear','joy','love','sadness','trust','identity_hate', 'insult', 'obscene', 'severe_toxic', 'threat', 'toxic']]\n",
    "emo"
   ]
  },
  {
   "cell_type": "markdown",
   "id": "39a7b2ab",
   "metadata": {},
   "source": [
    "<h2><span style=\"color: #008000;\"> 5aii. For a better visualisation we will normalise each column by diving it by its sum; then we will average all the  positive feelings and all the negative feelings.  </span></h2>\n",
    "<br>"
   ]
  },
  {
   "cell_type": "code",
   "execution_count": null,
   "id": "925ecea1",
   "metadata": {},
   "outputs": [],
   "source": [
    "# Sum all the values for each coulumns\n",
    "sumjoy=emo[['joy']].sum();sumlove=emo[['love']].sum(); sumtrust=emo[['trust']].sum();\n",
    "sumanger=emo[['anger']].sum();sumfear=emo[['fear']].sum();sumsadness=emo[['sadness']].sum(); sumidentity_hate=emo[['identity_hate']].sum();\n",
    "suminsult=emo[['insult']].sum();sumobscene=emo[['obscene']].sum(); sumsevere_toxic=emo[['severe_toxic']].sum();\n",
    "sumthreat=emo[['threat']].sum();sumtoxic=emo[['toxic']].sum()\n"
   ]
  },
  {
   "cell_type": "code",
   "execution_count": null,
   "id": "b576939b",
   "metadata": {},
   "outputs": [],
   "source": [
    "# Normalise each column dividing them by its sum\n",
    "joy_n=emo['joy'].apply(lambda x: x/sumjoy);love_n=emo['love'].apply(lambda x: x/sumlove);trust_n=emo['trust'].apply(lambda x: x/sumtrust);\n",
    "anger_n=emo['anger'].apply(lambda x: x/sumanger);fear_n=emo['fear'].apply(lambda x: x/sumfear);sadness_n=emo['sadness'].apply(lambda x: x/sumsadness);\n",
    "identity_hate_n=emo['identity_hate'].apply(lambda x: x/sumidentity_hate);insult_n=emo['insult'].apply(lambda x: x/suminsult);\n",
    "obscene_n=emo['obscene'].apply(lambda x: x/sumobscene);severe_toxic_n=emo['severe_toxic'].apply(lambda x: x/sumsevere_toxic);\n",
    "threat_n=emo['threat'].apply(lambda x: x/sumthreat);toxic_n=emo['toxic'].apply(lambda x: x/sumtoxic)"
   ]
  },
  {
   "cell_type": "code",
   "execution_count": null,
   "id": "a66c7ed4",
   "metadata": {
    "scrolled": true
   },
   "outputs": [],
   "source": [
    "# Merge all the normalised emotions into a  single dataframe\n",
    "from functools import reduce\n",
    "df_emo = [joy_n, love_n,trust_n,anger_n,fear_n,sadness_n,identity_hate_n,insult_n,obscene_n,severe_toxic_n,threat_n,toxic_n]\n",
    "emo_n = reduce(lambda  left,right: pd.merge(left,right,on=['stakeholder'], how='outer'), df_emo)\n",
    "emo_n"
   ]
  },
  {
   "cell_type": "code",
   "execution_count": null,
   "id": "cc0a68be",
   "metadata": {},
   "outputs": [],
   "source": [
    "#Average of all positive normalised emotions, and average of all negative normalised emotions; add the averages to the dataframe\n",
    "emo_n['positive_emotions']=(emo_n['joy']+emo_n['love']+emo_n['trust'])/3\n",
    "emo_n['negative_emotions']=(emo_n['anger']+emo_n['fear']+emo_n['sadness']+emo_n['identity_hate']+emo_n['insult']+emo_n['obscene']+emo_n['severe_toxic']+emo_n['threat']+emo_n['toxic'])/9\n",
    "emo_n"
   ]
  },
  {
   "cell_type": "code",
   "execution_count": null,
   "id": "33f8a143",
   "metadata": {},
   "outputs": [],
   "source": [
    "# Drop all unnecesary columns\n",
    "emo_final=emo_n.drop(['anger','fear','joy','love','sadness','trust','identity_hate', 'insult', 'obscene', 'severe_toxic', 'threat', 'toxic'], axis = 1)\n",
    "emo_final"
   ]
  },
  {
   "cell_type": "markdown",
   "id": "fd4e347f",
   "metadata": {},
   "source": [
    "<h2><span style=\"color: #008000;\"> 5aiii. Plot positive and the negative feelings accross stakeholders.  </span></h2>\n",
    "<br>"
   ]
  },
  {
   "cell_type": "code",
   "execution_count": null,
   "id": "34dfc65f",
   "metadata": {},
   "outputs": [],
   "source": [
    "# Plot negative and positive emotions across Stakeholders\n",
    "emo_final.plot.area(figsize=(13,7), stacked=False)\n",
    "plt.title('Stakeholders Positive and Negative Emotions.', fontsize=19,  color='red')\n",
    "plt.xlabel('Stakeholders', fontsize=15, color='darkblue')\n",
    "plt.ylabel('Values', fontsize=15, color='darkblue')\n",
    "plt.show()"
   ]
  },
  {
   "cell_type": "markdown",
   "id": "693492ba",
   "metadata": {},
   "source": [
    "<h3><span style=\"color: #008000;\"> We can observe that non-governmental organizations have the strongest reactions towards negative emotions; artists and multinationals react more to positive emotions; other institutions have similar reactions to negative and positive emotions; Scientifics reacts more to negative than positive emotions. </span></h3>\n",
    "<br>"
   ]
  },
  {
   "cell_type": "markdown",
   "id": "1ca55091",
   "metadata": {},
   "source": [
    "<h2><span style=\"color: #008000;\"><strong>5b. Differences in popularity across stakeholders.</strong></span></h2>"
   ]
  },
  {
   "cell_type": "code",
   "execution_count": null,
   "id": "ea04f96f",
   "metadata": {},
   "outputs": [],
   "source": [
    "#Create a Dataframe of the number of followers and friends across stakeholders.\n",
    "popularity=ConversationsLean.groupby(['stakeholder']).mean()[['tweet.user.followers_count','tweet.user.friends_count']].sort_values(by='tweet.user.followers_count',ascending=False).round()\n",
    "popularity.columns = ['Followers', 'Friends']\n",
    "popularity"
   ]
  },
  {
   "cell_type": "code",
   "execution_count": null,
   "id": "694b3372",
   "metadata": {
    "scrolled": true
   },
   "outputs": [],
   "source": [
    "# Plot  popularity across stakeholders measured  in followers and friends.\n",
    "popularity.plot.bar(figsize=(9,5),  stacked=False).set_facecolor(\"lavender\")\n",
    "plt.title('Popularity of Stakeholders by Followers and Friends.', fontsize=19,  color='red')\n",
    "plt.xlabel('Stakeholders', fontsize=15, color='darkblue')\n",
    "plt.ylabel('Values', fontsize=15, color='darkblue')\n",
    "plt.xticks(rotation=0)\n",
    "plt.show()"
   ]
  },
  {
   "cell_type": "markdown",
   "id": "568f7ee4",
   "metadata": {},
   "source": [
    "<h3><span style=\"color: #008000;\"> We can observe that multinationals are the organizations followed by more people; in second place, non-governmental organizations have a considerable amount of followers. Regarding friends, the differences are not substantial; being Non-governmental, the stakeholder following more people. </span></h3>\n",
    "<br>"
   ]
  },
  {
   "cell_type": "code",
   "execution_count": null,
   "id": "3c9b41e2",
   "metadata": {},
   "outputs": [],
   "source": [
    "#Create a Dataframe of the number of retweets and likes across stakeholders.\n",
    "popularity2=ConversationsLean.groupby(['stakeholder']).sum()[['tweet.favorite_count','tweet.retweet_count']].sort_values(by='tweet.favorite_count',ascending=False)\n",
    "popularity2.columns = ['Retweets', 'Favourites']\n",
    "popularity2"
   ]
  },
  {
   "cell_type": "code",
   "execution_count": null,
   "id": "53facdb8",
   "metadata": {},
   "outputs": [],
   "source": [
    "# Plot  popularity across stakeholders measured  in retweets and likes.\n",
    "popularity2.plot.bar(figsize=(10,5),  stacked=False).set_facecolor(\"lavender\")\n",
    "plt.title('Popularity of Stakeholders by Retweets and Favourites.', fontsize=19,  color='red')\n",
    "plt.xlabel('Stakeholders', fontsize=15, color='darkblue')\n",
    "plt.ylabel('Values', fontsize=15, color='darkblue')\n",
    "plt.xticks(rotation=0)\n",
    "plt.show()"
   ]
  },
  {
   "cell_type": "markdown",
   "id": "5ea4ef38",
   "metadata": {},
   "source": [
    "<h3><span style=\"color: #008000;\"> We can affirm that non-governmental organizations  without a doubt  have the greater impact with their communication in twitter. </span></h3>\n",
    "<br>"
   ]
  },
  {
   "cell_type": "markdown",
   "id": "ddc60c08",
   "metadata": {},
   "source": [
    "<h1><span style=\"color: #008000;\"><strong>5c. Activity (number of tweets and likes) of stakeholders.</strong></span></h1>"
   ]
  },
  {
   "cell_type": "code",
   "execution_count": null,
   "id": "ea20865f",
   "metadata": {},
   "outputs": [],
   "source": [
    "#Create a Dataframe of the number of tweets and likes made by stakeholders\n",
    "activity=ConversationsLean.groupby(['stakeholder']).mean()[['tweet.user.statuses_count','tweet.user.favourites_count']].sort_values(by='tweet.user.statuses_count',ascending=False).round()\n",
    "activity.columns = ['Favourites Given', 'Tweets Made']\n",
    "activity"
   ]
  },
  {
   "cell_type": "code",
   "execution_count": null,
   "id": "97b3c7c4",
   "metadata": {},
   "outputs": [],
   "source": [
    "# Plot the number of tweets and likes made by stakeholders\n",
    "activity.plot.bar(figsize=(10,5),  stacked=False).set_facecolor(\"lavender\")\n",
    "plt.title('Activity of Stakeholders.', fontsize=19,  color='red')\n",
    "plt.xlabel('Stakeholders', fontsize=15, color='darkblue')\n",
    "plt.ylabel('Values', fontsize=15, color='darkblue')\n",
    "plt.xticks(rotation=0)\n",
    "plt.show()"
   ]
  },
  {
   "cell_type": "markdown",
   "id": "212cd73a",
   "metadata": {},
   "source": [
    "<h3><span style=\"color: #008000;\"> In this comparison we can see how active the organizations are on twitter. This graph reflects the commitment they have with their communications on social networks and as in the comparison of popularity we can see that civil society organizations are in first place, followed by multinationals and other institutions. It is important to note that the difference is not significant as in other areas. </span></h3>\n",
    "<br>"
   ]
  },
  {
   "cell_type": "markdown",
   "id": "6175f0fe",
   "metadata": {},
   "source": [
    "<h1><span style=\"color: #008000;\"><strong>5d. Differences in hashtags across stakeholders.</strong></span></h1>"
   ]
  },
  {
   "cell_type": "markdown",
   "id": "c88285f8",
   "metadata": {},
   "source": [
    "<h2><span style=\"color: #008000;\"><strong>5di. Most used hashtags in NGOs.</strong></span></h2>"
   ]
  },
  {
   "cell_type": "code",
   "execution_count": null,
   "id": "712ea5bb",
   "metadata": {},
   "outputs": [],
   "source": [
    "#Create a Dataframe with stakeholders and hastags.\n",
    "hash=ConversationsLean[['stakeholder','hashtags_extracted']]\n",
    "#Make a Filter just to have just NGOs\n",
    "NGO_filter=hash['stakeholder']=='NGO'\n",
    "hash_NGO_serie=hash[NGO_filter]\n",
    "#Put a hashtag per row\n",
    "NGO = pd.Series([item for sublist in hash_NGO_serie.hashtags_extracted for item in sublist])\n",
    "#Convert to lowercase the hashtags\n",
    "NGO = NGO.astype(str).str.lower()\n",
    "#Count the frequency of avery hastag\n",
    "df_NGO1 = NGO.value_counts()\n",
    "df_NGO1.head(5)"
   ]
  },
  {
   "cell_type": "code",
   "execution_count": null,
   "id": "76d67a8b",
   "metadata": {
    "scrolled": true
   },
   "outputs": [],
   "source": [
    "#Generate a WordCloud Plot\n",
    "wordcloud.generate_from_frequencies(df_NGO1)\n",
    "fig = plt.figure(\n",
    "    figsize = (8, 30),\n",
    "    facecolor = 'k',\n",
    "    edgecolor = 'k')\n",
    "plt.imshow(wordcloud, interpolation = 'bilinear')\n",
    "plt.axis('off')\n",
    "plt.tight_layout(pad=0)\n",
    "plt.title('NGOs  Hashtags', fontsize=42,  color='YELLOW')\n",
    "plt.show()"
   ]
  },
  {
   "cell_type": "markdown",
   "id": "646c13b1",
   "metadata": {},
   "source": [
    "<h3><span style=\"color: #008000;\"> We can observe the most used hashtags applied by non-governmental organizations are #breakfreefromplastic followed by #plasticpollutes.</span></h3>\n",
    "<br>"
   ]
  },
  {
   "cell_type": "markdown",
   "id": "169a7fb6",
   "metadata": {},
   "source": [
    "<h2><span style=\"color: #008000;\"><strong>5dii. Most used hashtags in Multinationals.</strong></span></h2>"
   ]
  },
  {
   "cell_type": "code",
   "execution_count": null,
   "id": "ea3572ee",
   "metadata": {},
   "outputs": [],
   "source": [
    "#Make a Filter just to have just Multinationals\n",
    "M_filter=hash['stakeholder']=='Multinational'\n",
    "hash_M_serie=hash[M_filter]\n",
    "#Put a hashtag per row\n",
    "M = pd.Series([item for sublist in hash_M_serie.hashtags_extracted for item in sublist])\n",
    "#Convert to lowercase the hashtags\n",
    "M = M.astype(str).str.lower()\n",
    "#Count the frequency of avery hastag\n",
    "df_M1 = M.value_counts()\n",
    "df_M1.head(5)"
   ]
  },
  {
   "cell_type": "code",
   "execution_count": null,
   "id": "cfa0a2f8",
   "metadata": {},
   "outputs": [],
   "source": [
    "#Generate a WordCloud plot to visualise most used hashtags\n",
    "wordcloud.generate_from_frequencies(df_M1)\n",
    "fig = plt.figure(\n",
    "    figsize = (8, 30),\n",
    "    facecolor = 'k',\n",
    "    edgecolor = 'k')\n",
    "plt.imshow(wordcloud, interpolation = 'bilinear')\n",
    "plt.axis('off')\n",
    "plt.tight_layout(pad=0)\n",
    "plt.title('Multinational  Hashtags', fontsize=42,  color='YELLOW')\n",
    "plt.show()"
   ]
  },
  {
   "cell_type": "markdown",
   "id": "ddd64e70",
   "metadata": {},
   "source": [
    "<h3><span style=\"color: #008000;\"> We can observe the most used hashtags applied by Multinationals are #circulareconomy   followed by #sustainability.</span></h3>\n",
    "<br>"
   ]
  },
  {
   "cell_type": "markdown",
   "id": "4e4bcc69",
   "metadata": {},
   "source": [
    "<h2><span style=\"color: #008000;\"><strong>5diii. Most used hashtags in Other Institutions.</strong></span></h2>\n",
    "\n"
   ]
  },
  {
   "cell_type": "code",
   "execution_count": null,
   "id": "366237c3",
   "metadata": {},
   "outputs": [],
   "source": [
    "#Make a Filter just to have just Multinationals\n",
    "O_filter=hash['stakeholder']=='OtherInstitution'\n",
    "hash_O_serie=hash[O_filter]\n",
    "#Put a hashtag per row\n",
    "O = pd.Series([item for sublist in hash_O_serie.hashtags_extracted for item in sublist])\n",
    "#Convert to lowercase the hashtags\n",
    "O = O.astype(str).str.lower()\n",
    "#Count the frequency of avery hastag\n",
    "df_O1 = O.value_counts()\n",
    "df_O1.head(5)"
   ]
  },
  {
   "cell_type": "code",
   "execution_count": null,
   "id": "6291f432",
   "metadata": {},
   "outputs": [],
   "source": [
    "#Generate a WordCloud plot to visualise most used hashtags\n",
    "wordcloud.generate_from_frequencies(df_O1)\n",
    "fig = plt.figure(\n",
    "    figsize = (8, 30),\n",
    "    facecolor = 'k',\n",
    "    edgecolor = 'k')\n",
    "plt.imshow(wordcloud, interpolation = 'bilinear')\n",
    "plt.axis('off')\n",
    "plt.tight_layout(pad=0)\n",
    "plt.title('Other Institution Hashtags', fontsize=42,  color='YELLOW')\n",
    "plt.show()"
   ]
  },
  {
   "cell_type": "markdown",
   "id": "be472907",
   "metadata": {},
   "source": [
    "<h3><span style=\"color: #008000;\"> We can observe the most used hashtags applied by Other Institutions are #circulareconomy   followed by #recycling.</span></h3>\n",
    "<br>"
   ]
  },
  {
   "cell_type": "markdown",
   "id": "3e4fd81c",
   "metadata": {},
   "source": [
    "<h2><span style=\"color: #008000;\"><strong>5div. Most used hashtags in Scientific Institutions.</strong></span></h2>"
   ]
  },
  {
   "cell_type": "code",
   "execution_count": null,
   "id": "68da48d6",
   "metadata": {},
   "outputs": [],
   "source": [
    "#Make a Filter just to have just Multinationals\n",
    "S_filter=hash['stakeholder']=='Scientific'\n",
    "hash_S_serie=hash[S_filter]\n",
    "#Put a hashtag per row\n",
    "S = pd.Series([item for sublist in hash_S_serie.hashtags_extracted for item in sublist])\n",
    "#Convert to lowercase the hashtags\n",
    "S = S.astype(str).str.lower()\n",
    "#Count the frequency of avery hastag\n",
    "df_S1 = S.value_counts()\n",
    "df_S1.head(5)"
   ]
  },
  {
   "cell_type": "code",
   "execution_count": null,
   "id": "1d7e5f5d",
   "metadata": {},
   "outputs": [],
   "source": [
    "#Generate a WordCloud plot to visualise most used hashtags\n",
    "wordcloud.generate_from_frequencies(df_S1)\n",
    "fig = plt.figure(\n",
    "    figsize = (8, 30),\n",
    "    facecolor = 'k',\n",
    "    edgecolor = 'k')\n",
    "plt.imshow(wordcloud, interpolation = 'bilinear')\n",
    "plt.axis('off')\n",
    "plt.tight_layout(pad=0)\n",
    "plt.title('Scientific Institution Hashtags', fontsize=42,  color='YELLOW')\n",
    "plt.show()"
   ]
  },
  {
   "cell_type": "markdown",
   "id": "7d132b16",
   "metadata": {},
   "source": [
    "<h3><span style=\"color: #008000;\"> We can observe the most used hashtags applied by Scientific Institutions are #recycling   followed by #plasticfree.</span></h3>\n",
    "<br>"
   ]
  },
  {
   "cell_type": "markdown",
   "id": "2173e87c",
   "metadata": {},
   "source": [
    "<h2><span style=\"color: #008000;\"><strong>5dv. Most used hashtags by Artists.</strong></span></h2>"
   ]
  },
  {
   "cell_type": "code",
   "execution_count": null,
   "id": "9a20b2c1",
   "metadata": {},
   "outputs": [],
   "source": [
    "#Make a Filter just to have just Multinationals\n",
    "A_filter=hash['stakeholder']=='Artist'\n",
    "hash_A_serie=hash[M_filter]\n",
    "#Put a hashtag per row\n",
    "A = pd.Series([item for sublist in hash_A_serie.hashtags_extracted for item in sublist])\n",
    "#Convert to lowercase the hashtags\n",
    "A = A.astype(str).str.lower()\n",
    "#Count the frequency of avery hastag\n",
    "df_A1 = A.value_counts()\n",
    "df_A1.head(5)"
   ]
  },
  {
   "cell_type": "code",
   "execution_count": 53,
   "id": "0f573307",
   "metadata": {},
   "outputs": [
    {
     "ename": "NameError",
     "evalue": "name 'wordcloud' is not defined",
     "output_type": "error",
     "traceback": [
      "\u001b[1;31m---------------------------------------------------------------------------\u001b[0m",
      "\u001b[1;31mNameError\u001b[0m                                 Traceback (most recent call last)",
      "\u001b[1;32m<ipython-input-53-7352afe4dcca>\u001b[0m in \u001b[0;36m<module>\u001b[1;34m\u001b[0m\n\u001b[0;32m      1\u001b[0m \u001b[1;31m#Generate a WordCloud plot to visualise most used hashtags\u001b[0m\u001b[1;33m\u001b[0m\u001b[1;33m\u001b[0m\u001b[1;33m\u001b[0m\u001b[0m\n\u001b[1;32m----> 2\u001b[1;33m \u001b[0mwordcloud\u001b[0m\u001b[1;33m.\u001b[0m\u001b[0mgenerate_from_frequencies\u001b[0m\u001b[1;33m(\u001b[0m\u001b[0mdf_A1\u001b[0m\u001b[1;33m)\u001b[0m\u001b[1;33m\u001b[0m\u001b[1;33m\u001b[0m\u001b[0m\n\u001b[0m\u001b[0;32m      3\u001b[0m fig = plt.figure(\n\u001b[0;32m      4\u001b[0m     \u001b[0mfigsize\u001b[0m \u001b[1;33m=\u001b[0m \u001b[1;33m(\u001b[0m\u001b[1;36m8\u001b[0m\u001b[1;33m,\u001b[0m \u001b[1;36m30\u001b[0m\u001b[1;33m)\u001b[0m\u001b[1;33m,\u001b[0m\u001b[1;33m\u001b[0m\u001b[1;33m\u001b[0m\u001b[0m\n\u001b[0;32m      5\u001b[0m     \u001b[0mfacecolor\u001b[0m \u001b[1;33m=\u001b[0m \u001b[1;34m'k'\u001b[0m\u001b[1;33m,\u001b[0m\u001b[1;33m\u001b[0m\u001b[1;33m\u001b[0m\u001b[0m\n",
      "\u001b[1;31mNameError\u001b[0m: name 'wordcloud' is not defined"
     ]
    }
   ],
   "source": [
    "#Generate a WordCloud plot to visualise most used hashtags\n",
    "wordcloud.generate_from_frequencies(df_A1)\n",
    "fig = plt.figure(\n",
    "    figsize = (8, 30),\n",
    "    facecolor = 'k',\n",
    "    edgecolor = 'k')\n",
    "plt.imshow(wordcloud, interpolation = 'bilinear')\n",
    "plt.axis('off')\n",
    "plt.tight_layout(pad=0)\n",
    "plt.title('ArtistS Hashtags', fontsize=42,  color='YELLOW')\n",
    "plt.show()"
   ]
  },
  {
   "cell_type": "markdown",
   "id": "068bafe8",
   "metadata": {},
   "source": [
    "<h3><span style=\"color: #008000;\"> We can observe the most used hashtags applied by Scientific Institutions are #plasticfreebeth   followed by #plasticfree .</span></h3>\n",
    "<br>"
   ]
  },
  {
   "cell_type": "markdown",
   "id": "50582cd5",
   "metadata": {},
   "source": [
    "<h3><span style=\"color: #008000;\"> <br>Thanks to the hashtag visualizations, we can observe the different positions the different stakeholders have. For example, non-governmental organizations and artists are focused on eliminating plastic and raising awareness of the damage caused to the environment; Scientists are focused on eliminating and recycling plastic products; at the other extreme, we have multinationals where other interests are observed, like circular economy sustainability and recycling.</span></h3>\n",
    "<br>"
   ]
  },
  {
   "cell_type": "markdown",
   "id": "5b7862ef",
   "metadata": {},
   "source": [
    "## Task 6. what are your recommendations for Coca Cola as far as social media is concerned ?   (20%)"
   ]
  },
  {
   "cell_type": "code",
   "execution_count": null,
   "id": "d6077b72",
   "metadata": {},
   "outputs": [],
   "source": []
  },
  {
   "cell_type": "code",
   "execution_count": null,
   "id": "7f84bfd1",
   "metadata": {},
   "outputs": [],
   "source": []
  }
 ],
 "metadata": {
  "kernelspec": {
   "display_name": "Python 3 (ipykernel)",
   "language": "python",
   "name": "python3"
  },
  "language_info": {
   "codemirror_mode": {
    "name": "ipython",
    "version": 3
   },
   "file_extension": ".py",
   "mimetype": "text/x-python",
   "name": "python",
   "nbconvert_exporter": "python",
   "pygments_lexer": "ipython3",
   "version": "3.8.12"
  }
 },
 "nbformat": 4,
 "nbformat_minor": 5
}
