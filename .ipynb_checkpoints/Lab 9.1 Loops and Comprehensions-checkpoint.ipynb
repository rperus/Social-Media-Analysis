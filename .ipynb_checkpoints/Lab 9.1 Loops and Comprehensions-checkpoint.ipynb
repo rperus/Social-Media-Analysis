{
 "cells": [
  {
   "cell_type": "code",
   "execution_count": null,
   "metadata": {},
   "outputs": [],
   "source": []
  },
  {
   "cell_type": "markdown",
   "metadata": {},
   "source": [
    "# Lab 9.1. Loops and Comprehensions"
   ]
  },
  {
   "cell_type": "code",
   "execution_count": null,
   "metadata": {},
   "outputs": [],
   "source": []
  },
  {
   "cell_type": "markdown",
   "metadata": {},
   "source": [
    "## This lab will cover:\n",
    "\n",
    "1. Iteration using loops\n",
    "2. List comprehesions\n",
    "3. Conditionals"
   ]
  },
  {
   "cell_type": "code",
   "execution_count": null,
   "metadata": {},
   "outputs": [],
   "source": []
  },
  {
   "cell_type": "code",
   "execution_count": 1,
   "metadata": {},
   "outputs": [],
   "source": [
    "import pandas as pd"
   ]
  },
  {
   "cell_type": "code",
   "execution_count": null,
   "metadata": {},
   "outputs": [],
   "source": []
  },
  {
   "cell_type": "code",
   "execution_count": null,
   "metadata": {},
   "outputs": [],
   "source": []
  },
  {
   "cell_type": "markdown",
   "metadata": {},
   "source": [
    "## 1. While Loops"
   ]
  },
  {
   "cell_type": "markdown",
   "metadata": {},
   "source": [
    "### With the while loop we can execute a set of statements as long as a condition is true."
   ]
  },
  {
   "cell_type": "code",
   "execution_count": 2,
   "metadata": {},
   "outputs": [
    {
     "name": "stdout",
     "output_type": "stream",
     "text": [
      "1\n",
      "2\n",
      "3\n",
      "4\n",
      "5\n"
     ]
    }
   ],
   "source": [
    "i = 1\n",
    "while i < 6:\n",
    "  print(i)\n",
    " \n",
    "  i += 1"
   ]
  },
  {
   "cell_type": "markdown",
   "metadata": {},
   "source": [
    "### Oftentimes we need to stop the loop given some conditions"
   ]
  },
  {
   "cell_type": "code",
   "execution_count": 3,
   "metadata": {},
   "outputs": [
    {
     "name": "stdout",
     "output_type": "stream",
     "text": [
      "1\n",
      "2\n",
      "3\n",
      "4\n",
      "5\n",
      "6\n",
      "7\n",
      "8\n",
      "9\n",
      "10\n",
      "11\n",
      "12\n",
      "found 12, I exit\n"
     ]
    }
   ],
   "source": [
    "i = 1\n",
    "while i < 300:\n",
    "  print(i)\n",
    "  if i == 12:\n",
    "    print('found 12, I exit')\n",
    "    break\n",
    "  i += 1"
   ]
  },
  {
   "cell_type": "code",
   "execution_count": null,
   "metadata": {},
   "outputs": [],
   "source": []
  },
  {
   "cell_type": "code",
   "execution_count": null,
   "metadata": {},
   "outputs": [],
   "source": []
  },
  {
   "cell_type": "code",
   "execution_count": null,
   "metadata": {},
   "outputs": [],
   "source": []
  },
  {
   "cell_type": "markdown",
   "metadata": {},
   "source": [
    "## 2. For Loops"
   ]
  },
  {
   "cell_type": "markdown",
   "metadata": {},
   "source": [
    "### A for loop is used for iterating over a sequence (that is either a list, a tuple, a dictionary, a set, or a string)."
   ]
  },
  {
   "cell_type": "code",
   "execution_count": null,
   "metadata": {},
   "outputs": [],
   "source": []
  },
  {
   "cell_type": "code",
   "execution_count": 4,
   "metadata": {},
   "outputs": [
    {
     "name": "stdout",
     "output_type": "stream",
     "text": [
      "apple\n",
      "banana\n",
      "cherry\n",
      "tomato\n",
      "pomegranate\n",
      "orange\n"
     ]
    }
   ],
   "source": [
    "fruits = [\"apple\", \"banana\", \"cherry\",\"tomato\",\"pomegranate\",\"orange\"]\n",
    "for element in fruits:\n",
    "  print(element)"
   ]
  },
  {
   "cell_type": "code",
   "execution_count": null,
   "metadata": {},
   "outputs": [],
   "source": []
  },
  {
   "cell_type": "code",
   "execution_count": 5,
   "metadata": {},
   "outputs": [
    {
     "name": "stdout",
     "output_type": "stream",
     "text": [
      "APPLE\n",
      "BANANA\n",
      "CHERRY\n",
      "TOMATO\n",
      "POMEGRANATE\n",
      "ORANGE\n"
     ]
    }
   ],
   "source": [
    "for element in fruits:\n",
    "    elementupper=element.upper()\n",
    "    print(elementupper)"
   ]
  },
  {
   "cell_type": "code",
   "execution_count": null,
   "metadata": {},
   "outputs": [],
   "source": []
  },
  {
   "cell_type": "code",
   "execution_count": 6,
   "metadata": {},
   "outputs": [
    {
     "name": "stdout",
     "output_type": "stream",
     "text": [
      "apple\n",
      "banana\n",
      "cherry\n",
      "tomato\n",
      "Found the tomato, I exit\n"
     ]
    }
   ],
   "source": [
    "for element in fruits:\n",
    "    print(element)\n",
    "    if element == 'tomato':\n",
    "        print('Found the tomato, I exit')\n",
    "        break"
   ]
  },
  {
   "cell_type": "code",
   "execution_count": null,
   "metadata": {},
   "outputs": [],
   "source": []
  },
  {
   "cell_type": "code",
   "execution_count": 7,
   "metadata": {},
   "outputs": [
    {
     "name": "stdout",
     "output_type": "stream",
     "text": [
      "['apple', 'banana', 'mango', 'tomato', 'orange']\n"
     ]
    }
   ],
   "source": [
    "fruits = [\"apple\", \"banana\", \"cherry\", \"kiwi\", \"mango\",\"tomato\",\"orange\",\"berry\"]\n",
    "newlist = []\n",
    "\n",
    "for item in fruits:\n",
    "  if \"a\" in item:\n",
    "    newlist.append(item)\n",
    "\n",
    "print(newlist)"
   ]
  },
  {
   "cell_type": "code",
   "execution_count": null,
   "metadata": {},
   "outputs": [],
   "source": []
  },
  {
   "cell_type": "code",
   "execution_count": null,
   "metadata": {},
   "outputs": [],
   "source": []
  },
  {
   "cell_type": "code",
   "execution_count": null,
   "metadata": {},
   "outputs": [],
   "source": []
  },
  {
   "cell_type": "markdown",
   "metadata": {},
   "source": [
    "### To loop through a set of code a specified number of times, we can use the range() function,"
   ]
  },
  {
   "cell_type": "code",
   "execution_count": 8,
   "metadata": {},
   "outputs": [
    {
     "name": "stdout",
     "output_type": "stream",
     "text": [
      "I am at: 0\n",
      "I am at: 1\n",
      "I am at: 2\n",
      "I am at: 3\n",
      "I am at: 4\n",
      "I am at: 5\n",
      "I am at: 6\n",
      "I am at: 7\n",
      "I am at: 8\n",
      "I am at: 9\n",
      "I am at: 10\n",
      "I am at: 11\n",
      "I am at: 12\n",
      "I am at: 13\n",
      "I am at: 14\n",
      "I am at: 15\n",
      "I am at: 16\n",
      "I am at: 17\n",
      "I am at: 18\n",
      "I am at: 19\n"
     ]
    }
   ],
   "source": [
    "for x in range(0,20):\n",
    "  print(\"I am at:\",x)"
   ]
  },
  {
   "cell_type": "code",
   "execution_count": null,
   "metadata": {},
   "outputs": [],
   "source": []
  },
  {
   "cell_type": "code",
   "execution_count": null,
   "metadata": {},
   "outputs": [],
   "source": []
  },
  {
   "cell_type": "markdown",
   "metadata": {},
   "source": [
    "### We can use loops to process csv files one line at a time"
   ]
  },
  {
   "cell_type": "code",
   "execution_count": null,
   "metadata": {},
   "outputs": [],
   "source": []
  },
  {
   "cell_type": "code",
   "execution_count": 9,
   "metadata": {},
   "outputs": [
    {
     "data": {
      "text/html": [
       "<div>\n",
       "<style scoped>\n",
       "    .dataframe tbody tr th:only-of-type {\n",
       "        vertical-align: middle;\n",
       "    }\n",
       "\n",
       "    .dataframe tbody tr th {\n",
       "        vertical-align: top;\n",
       "    }\n",
       "\n",
       "    .dataframe thead th {\n",
       "        text-align: right;\n",
       "    }\n",
       "</style>\n",
       "<table border=\"1\" class=\"dataframe\">\n",
       "  <thead>\n",
       "    <tr style=\"text-align: right;\">\n",
       "      <th></th>\n",
       "      <th>id</th>\n",
       "      <th>first_name</th>\n",
       "      <th>last_name</th>\n",
       "      <th>middle_name</th>\n",
       "      <th>party</th>\n",
       "    </tr>\n",
       "  </thead>\n",
       "  <tbody>\n",
       "    <tr>\n",
       "      <th>0</th>\n",
       "      <td>33</td>\n",
       "      <td>Joseph</td>\n",
       "      <td>Biden</td>\n",
       "      <td>NaN</td>\n",
       "      <td>D</td>\n",
       "    </tr>\n",
       "    <tr>\n",
       "      <th>1</th>\n",
       "      <td>36</td>\n",
       "      <td>Samuel</td>\n",
       "      <td>Brownback</td>\n",
       "      <td>NaN</td>\n",
       "      <td>R</td>\n",
       "    </tr>\n",
       "    <tr>\n",
       "      <th>2</th>\n",
       "      <td>34</td>\n",
       "      <td>Hillary</td>\n",
       "      <td>Clinton</td>\n",
       "      <td>R.</td>\n",
       "      <td>D</td>\n",
       "    </tr>\n",
       "    <tr>\n",
       "      <th>3</th>\n",
       "      <td>39</td>\n",
       "      <td>Christopher</td>\n",
       "      <td>Dodd</td>\n",
       "      <td>J.</td>\n",
       "      <td>D</td>\n",
       "    </tr>\n",
       "    <tr>\n",
       "      <th>4</th>\n",
       "      <td>26</td>\n",
       "      <td>John</td>\n",
       "      <td>Edwards</td>\n",
       "      <td>NaN</td>\n",
       "      <td>D</td>\n",
       "    </tr>\n",
       "    <tr>\n",
       "      <th>5</th>\n",
       "      <td>22</td>\n",
       "      <td>Rudolph</td>\n",
       "      <td>Giuliani</td>\n",
       "      <td>NaN</td>\n",
       "      <td>R</td>\n",
       "    </tr>\n",
       "    <tr>\n",
       "      <th>6</th>\n",
       "      <td>24</td>\n",
       "      <td>Mike</td>\n",
       "      <td>Gravel</td>\n",
       "      <td>NaN</td>\n",
       "      <td>D</td>\n",
       "    </tr>\n",
       "    <tr>\n",
       "      <th>7</th>\n",
       "      <td>16</td>\n",
       "      <td>Mike</td>\n",
       "      <td>Huckabee</td>\n",
       "      <td>NaN</td>\n",
       "      <td>R</td>\n",
       "    </tr>\n",
       "    <tr>\n",
       "      <th>8</th>\n",
       "      <td>30</td>\n",
       "      <td>Duncan</td>\n",
       "      <td>Hunter</td>\n",
       "      <td>NaN</td>\n",
       "      <td>R</td>\n",
       "    </tr>\n",
       "    <tr>\n",
       "      <th>9</th>\n",
       "      <td>31</td>\n",
       "      <td>Dennis</td>\n",
       "      <td>Kucinich</td>\n",
       "      <td>NaN</td>\n",
       "      <td>D</td>\n",
       "    </tr>\n",
       "    <tr>\n",
       "      <th>10</th>\n",
       "      <td>37</td>\n",
       "      <td>John</td>\n",
       "      <td>McCain</td>\n",
       "      <td>NaN</td>\n",
       "      <td>R</td>\n",
       "    </tr>\n",
       "    <tr>\n",
       "      <th>11</th>\n",
       "      <td>20</td>\n",
       "      <td>Barack</td>\n",
       "      <td>Obama</td>\n",
       "      <td>NaN</td>\n",
       "      <td>D</td>\n",
       "    </tr>\n",
       "    <tr>\n",
       "      <th>12</th>\n",
       "      <td>32</td>\n",
       "      <td>Ron</td>\n",
       "      <td>Paul</td>\n",
       "      <td>NaN</td>\n",
       "      <td>R</td>\n",
       "    </tr>\n",
       "    <tr>\n",
       "      <th>13</th>\n",
       "      <td>29</td>\n",
       "      <td>Bill</td>\n",
       "      <td>Richardson</td>\n",
       "      <td>NaN</td>\n",
       "      <td>D</td>\n",
       "    </tr>\n",
       "    <tr>\n",
       "      <th>14</th>\n",
       "      <td>35</td>\n",
       "      <td>Mitt</td>\n",
       "      <td>Romney</td>\n",
       "      <td>NaN</td>\n",
       "      <td>R</td>\n",
       "    </tr>\n",
       "    <tr>\n",
       "      <th>15</th>\n",
       "      <td>38</td>\n",
       "      <td>Tom</td>\n",
       "      <td>Tancredo</td>\n",
       "      <td>NaN</td>\n",
       "      <td>R</td>\n",
       "    </tr>\n",
       "    <tr>\n",
       "      <th>16</th>\n",
       "      <td>41</td>\n",
       "      <td>Fred</td>\n",
       "      <td>Thompson</td>\n",
       "      <td>D.</td>\n",
       "      <td>R</td>\n",
       "    </tr>\n",
       "  </tbody>\n",
       "</table>\n",
       "</div>"
      ],
      "text/plain": [
       "    id   first_name   last_name middle_name party\n",
       "0   33       Joseph       Biden         NaN     D\n",
       "1   36       Samuel   Brownback         NaN     R\n",
       "2   34      Hillary     Clinton          R.     D\n",
       "3   39  Christopher        Dodd          J.     D\n",
       "4   26         John     Edwards         NaN     D\n",
       "5   22      Rudolph    Giuliani         NaN     R\n",
       "6   24         Mike      Gravel         NaN     D\n",
       "7   16         Mike    Huckabee         NaN     R\n",
       "8   30       Duncan      Hunter         NaN     R\n",
       "9   31       Dennis    Kucinich         NaN     D\n",
       "10  37         John      McCain         NaN     R\n",
       "11  20       Barack       Obama         NaN     D\n",
       "12  32          Ron        Paul         NaN     R\n",
       "13  29         Bill  Richardson         NaN     D\n",
       "14  35         Mitt      Romney         NaN     R\n",
       "15  38          Tom    Tancredo         NaN     R\n",
       "16  41         Fred    Thompson          D.     R"
      ]
     },
     "execution_count": 9,
     "metadata": {},
     "output_type": "execute_result"
    }
   ],
   "source": [
    "## usual approach using pandas\n",
    "dfcand=pd.read_csv('https://raw.githubusercontent.com/cs109/2015/master/Lectures/Lecture4/candidates.txt', sep='|')\n",
    "dfcand"
   ]
  },
  {
   "cell_type": "code",
   "execution_count": 10,
   "metadata": {},
   "outputs": [
    {
     "name": "stdout",
     "output_type": "stream",
     "text": [
      "33|Joseph|Biden||D\n",
      "\n",
      "36|Samuel|Brownback||R\n",
      "\n",
      "34|Hillary|Clinton|R.|D\n",
      "\n",
      "39|Christopher|Dodd|J.|D\n",
      "\n",
      "26|John|Edwards||D\n",
      "\n",
      "22|Rudolph|Giuliani||R\n",
      "\n",
      "24|Mike|Gravel||D\n",
      "\n",
      "16|Mike|Huckabee||R\n",
      "\n",
      "30|Duncan|Hunter||R\n",
      "\n",
      "31|Dennis|Kucinich||D\n",
      "\n",
      "37|John|McCain||R\n",
      "\n",
      "20|Barack|Obama||D\n",
      "\n",
      "32|Ron|Paul||R\n",
      "\n",
      "29|Bill|Richardson||D\n",
      "\n",
      "35|Mitt|Romney||R\n",
      "\n",
      "38|Tom|Tancredo||R\n",
      "\n",
      "41|Fred|Thompson|D.|R\n",
      "\n"
     ]
    }
   ],
   "source": [
    "## alternative approach reading one line at a time\n",
    "\n",
    "file = open('../data/candidates.txt', \"r\")\n",
    "\n",
    "for line in file:\n",
    "    print(line)\n",
    "\n",
    "file.close()"
   ]
  },
  {
   "cell_type": "code",
   "execution_count": null,
   "metadata": {},
   "outputs": [],
   "source": []
  },
  {
   "cell_type": "code",
   "execution_count": 11,
   "metadata": {},
   "outputs": [],
   "source": [
    "line=\"33|david|lopez||D\""
   ]
  },
  {
   "cell_type": "code",
   "execution_count": 12,
   "metadata": {},
   "outputs": [],
   "source": [
    "lineSplit=line.strip().split('|')"
   ]
  },
  {
   "cell_type": "code",
   "execution_count": 13,
   "metadata": {},
   "outputs": [
    {
     "data": {
      "text/plain": [
       "'33'"
      ]
     },
     "execution_count": 13,
     "metadata": {},
     "output_type": "execute_result"
    }
   ],
   "source": [
    "lineSplit[0]"
   ]
  },
  {
   "cell_type": "code",
   "execution_count": 14,
   "metadata": {},
   "outputs": [
    {
     "data": {
      "text/plain": [
       "'david'"
      ]
     },
     "execution_count": 14,
     "metadata": {},
     "output_type": "execute_result"
    }
   ],
   "source": [
    "lineSplit[1]"
   ]
  },
  {
   "cell_type": "code",
   "execution_count": 15,
   "metadata": {},
   "outputs": [
    {
     "data": {
      "text/plain": [
       "'lopez'"
      ]
     },
     "execution_count": 15,
     "metadata": {},
     "output_type": "execute_result"
    }
   ],
   "source": [
    "lineSplit[2]"
   ]
  },
  {
   "cell_type": "code",
   "execution_count": 16,
   "metadata": {},
   "outputs": [
    {
     "data": {
      "text/plain": [
       "''"
      ]
     },
     "execution_count": 16,
     "metadata": {},
     "output_type": "execute_result"
    }
   ],
   "source": [
    "lineSplit[3]"
   ]
  },
  {
   "cell_type": "code",
   "execution_count": 17,
   "metadata": {},
   "outputs": [
    {
     "data": {
      "text/plain": [
       "'D'"
      ]
     },
     "execution_count": 17,
     "metadata": {},
     "output_type": "execute_result"
    }
   ],
   "source": [
    "lineSplit[4]"
   ]
  },
  {
   "cell_type": "code",
   "execution_count": null,
   "metadata": {},
   "outputs": [],
   "source": []
  },
  {
   "cell_type": "code",
   "execution_count": 18,
   "metadata": {
    "scrolled": false
   },
   "outputs": [
    {
     "name": "stdout",
     "output_type": "stream",
     "text": [
      "This is the original unprocessed line: 33|Joseph|Biden||D\n",
      "\n",
      "First name: Joseph\n",
      "Surname: Biden\n",
      "Party: D\n",
      "\n",
      "\n",
      "First name processed: JOSEPH\n",
      "Surname processed: BIDEN\n",
      "\n",
      "\n",
      "This is the original unprocessed line: 36|Samuel|Brownback||R\n",
      "\n",
      "First name: Samuel\n",
      "Surname: Brownback\n",
      "Party: R\n",
      "\n",
      "\n",
      "First name processed: SAMUEL\n",
      "Surname processed: BROWNBACK\n",
      "\n",
      "\n",
      "This is the original unprocessed line: 34|Hillary|Clinton|R.|D\n",
      "\n",
      "First name: Hillary\n",
      "Surname: Clinton\n",
      "Party: D\n",
      "\n",
      "\n",
      "First name processed: HILLARY\n",
      "Surname processed: CLINTON\n",
      "\n",
      "\n",
      "This is the original unprocessed line: 39|Christopher|Dodd|J.|D\n",
      "\n",
      "First name: Christopher\n",
      "Surname: Dodd\n",
      "Party: D\n",
      "\n",
      "\n",
      "First name processed: CHRISTOPHER\n",
      "Surname processed: DODD\n",
      "\n",
      "\n",
      "This is the original unprocessed line: 26|John|Edwards||D\n",
      "\n",
      "First name: John\n",
      "Surname: Edwards\n",
      "Party: D\n",
      "\n",
      "\n",
      "First name processed: JOHN\n",
      "Surname processed: EDWARDS\n",
      "\n",
      "\n",
      "This is the original unprocessed line: 22|Rudolph|Giuliani||R\n",
      "\n",
      "First name: Rudolph\n",
      "Surname: Giuliani\n",
      "Party: R\n",
      "\n",
      "\n",
      "First name processed: RUDOLPH\n",
      "Surname processed: GIULIANI\n",
      "\n",
      "\n",
      "This is the original unprocessed line: 24|Mike|Gravel||D\n",
      "\n",
      "First name: Mike\n",
      "Surname: Gravel\n",
      "Party: D\n",
      "\n",
      "\n",
      "First name processed: MIKE\n",
      "Surname processed: GRAVEL\n",
      "\n",
      "\n",
      "This is the original unprocessed line: 16|Mike|Huckabee||R\n",
      "\n",
      "First name: Mike\n",
      "Surname: Huckabee\n",
      "Party: R\n",
      "\n",
      "\n",
      "First name processed: MIKE\n",
      "Surname processed: HUCKABEE\n",
      "\n",
      "\n",
      "This is the original unprocessed line: 30|Duncan|Hunter||R\n",
      "\n",
      "First name: Duncan\n",
      "Surname: Hunter\n",
      "Party: R\n",
      "\n",
      "\n",
      "First name processed: DUNCAN\n",
      "Surname processed: HUNTER\n",
      "\n",
      "\n",
      "This is the original unprocessed line: 31|Dennis|Kucinich||D\n",
      "\n",
      "First name: Dennis\n",
      "Surname: Kucinich\n",
      "Party: D\n",
      "\n",
      "\n",
      "First name processed: DENNIS\n",
      "Surname processed: KUCINICH\n",
      "\n",
      "\n",
      "This is the original unprocessed line: 37|John|McCain||R\n",
      "\n",
      "First name: John\n",
      "Surname: McCain\n",
      "Party: R\n",
      "\n",
      "\n",
      "First name processed: JOHN\n",
      "Surname processed: MCCAIN\n",
      "\n",
      "\n",
      "This is the original unprocessed line: 20|Barack|Obama||D\n",
      "\n",
      "First name: Barack\n",
      "Surname: Obama\n",
      "Party: D\n",
      "\n",
      "\n",
      "First name processed: BARACK\n",
      "Surname processed: OBAMA\n",
      "\n",
      "\n",
      "This is the original unprocessed line: 32|Ron|Paul||R\n",
      "\n",
      "First name: Ron\n",
      "Surname: Paul\n",
      "Party: R\n",
      "\n",
      "\n",
      "First name processed: RON\n",
      "Surname processed: PAUL\n",
      "\n",
      "\n",
      "This is the original unprocessed line: 29|Bill|Richardson||D\n",
      "\n",
      "First name: Bill\n",
      "Surname: Richardson\n",
      "Party: D\n",
      "\n",
      "\n",
      "First name processed: BILL\n",
      "Surname processed: RICHARDSON\n",
      "\n",
      "\n",
      "This is the original unprocessed line: 35|Mitt|Romney||R\n",
      "\n",
      "First name: Mitt\n",
      "Surname: Romney\n",
      "Party: R\n",
      "\n",
      "\n",
      "First name processed: MITT\n",
      "Surname processed: ROMNEY\n",
      "\n",
      "\n",
      "This is the original unprocessed line: 38|Tom|Tancredo||R\n",
      "\n",
      "First name: Tom\n",
      "Surname: Tancredo\n",
      "Party: R\n",
      "\n",
      "\n",
      "First name processed: TOM\n",
      "Surname processed: TANCREDO\n",
      "\n",
      "\n",
      "This is the original unprocessed line: 41|Fred|Thompson|D.|R\n",
      "\n",
      "First name: Fred\n",
      "Surname: Thompson\n",
      "Party: R\n",
      "\n",
      "\n",
      "First name processed: FRED\n",
      "Surname processed: THOMPSON\n",
      "\n",
      "\n"
     ]
    }
   ],
   "source": [
    "file = open('../data/candidates.txt', \"r\")\n",
    "\n",
    "for line in file:\n",
    "    print(\"This is the original unprocessed line:\",line)\n",
    "    lineSplit=line.strip().split('|')\n",
    "    print('First name:',lineSplit[1])\n",
    "    print('Surname:',lineSplit[2])\n",
    "    \n",
    "    print('Party:',lineSplit[4])\n",
    "    print('\\n')\n",
    "    \n",
    "    print('First name processed:',lineSplit[1].upper())\n",
    "    print('Surname processed:',lineSplit[2].upper())\n",
    "    \n",
    "    print('\\n')\n",
    "\n",
    "file.close()"
   ]
  },
  {
   "cell_type": "code",
   "execution_count": null,
   "metadata": {},
   "outputs": [],
   "source": []
  },
  {
   "cell_type": "markdown",
   "metadata": {},
   "source": [
    "## 3. List comprehensions"
   ]
  },
  {
   "cell_type": "markdown",
   "metadata": {},
   "source": [
    "### List comprehension offers a shorter syntax when you want to create a new list based on the values of an existing list."
   ]
  },
  {
   "cell_type": "code",
   "execution_count": 19,
   "metadata": {},
   "outputs": [],
   "source": [
    "fruits = [\"apple\", \"banana\", \"cherry\", \"kiwi\", \"mango\"]"
   ]
  },
  {
   "cell_type": "code",
   "execution_count": 20,
   "metadata": {},
   "outputs": [
    {
     "data": {
      "text/plain": [
       "['apple', 'banana', 'cherry', 'kiwi', 'mango']"
      ]
     },
     "execution_count": 20,
     "metadata": {},
     "output_type": "execute_result"
    }
   ],
   "source": [
    "[fruit for fruit in fruits]"
   ]
  },
  {
   "cell_type": "code",
   "execution_count": 21,
   "metadata": {},
   "outputs": [
    {
     "data": {
      "text/plain": [
       "['APPLE', 'BANANA', 'CHERRY', 'KIWI', 'MANGO']"
      ]
     },
     "execution_count": 21,
     "metadata": {},
     "output_type": "execute_result"
    }
   ],
   "source": [
    "[fruit.upper() for fruit in fruits]"
   ]
  },
  {
   "cell_type": "code",
   "execution_count": null,
   "metadata": {},
   "outputs": [],
   "source": []
  },
  {
   "cell_type": "code",
   "execution_count": 22,
   "metadata": {},
   "outputs": [
    {
     "name": "stdout",
     "output_type": "stream",
     "text": [
      "['apple', 'banana', 'mango']\n"
     ]
    }
   ],
   "source": [
    "fruits = [\"apple\", \"banana\", \"cherry\", \"kiwi\", \"mango\",\"berry\"]\n",
    "\n",
    "newlist = [fruit for fruit in fruits if \"a\" in fruit]\n",
    "\n",
    "print(newlist)"
   ]
  },
  {
   "cell_type": "code",
   "execution_count": null,
   "metadata": {},
   "outputs": [],
   "source": []
  },
  {
   "cell_type": "code",
   "execution_count": null,
   "metadata": {},
   "outputs": [],
   "source": []
  },
  {
   "cell_type": "code",
   "execution_count": null,
   "metadata": {},
   "outputs": [],
   "source": []
  },
  {
   "cell_type": "code",
   "execution_count": null,
   "metadata": {},
   "outputs": [],
   "source": []
  },
  {
   "cell_type": "code",
   "execution_count": null,
   "metadata": {},
   "outputs": [],
   "source": []
  },
  {
   "cell_type": "code",
   "execution_count": null,
   "metadata": {},
   "outputs": [],
   "source": []
  }
 ],
 "metadata": {
  "kernelspec": {
   "display_name": "Python 3",
   "language": "python",
   "name": "python3"
  },
  "language_info": {
   "codemirror_mode": {
    "name": "ipython",
    "version": 3
   },
   "file_extension": ".py",
   "mimetype": "text/x-python",
   "name": "python",
   "nbconvert_exporter": "python",
   "pygments_lexer": "ipython3",
   "version": "3.8.5"
  }
 },
 "nbformat": 4,
 "nbformat_minor": 5
}
