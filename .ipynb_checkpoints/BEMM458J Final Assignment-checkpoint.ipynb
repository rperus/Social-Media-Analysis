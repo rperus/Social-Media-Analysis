{
 "cells": [
  {
   "cell_type": "code",
   "execution_count": null,
   "id": "crucial-industry",
   "metadata": {},
   "outputs": [],
   "source": []
  },
  {
   "cell_type": "markdown",
   "id": "oriental-variety",
   "metadata": {},
   "source": [
    "# BEMM458J Final assignment"
   ]
  },
  {
   "cell_type": "code",
   "execution_count": null,
   "id": "technical-orlando",
   "metadata": {},
   "outputs": [],
   "source": []
  },
  {
   "cell_type": "markdown",
   "id": "minimal-difficulty",
   "metadata": {},
   "source": [
    "## You are a business analyst at the marketing department of Coca Cola. There is an increasing debate on social media in relation to the negative impact of plastic consumption on the environment."
   ]
  },
  {
   "cell_type": "markdown",
   "id": "informational-archives",
   "metadata": {},
   "source": [
    "## As of recently NGOs have started campaigning against Coca Cola and other multinationals. "
   ]
  },
  {
   "cell_type": "markdown",
   "id": "duplicate-location",
   "metadata": {},
   "source": [
    "## General management needs you to conduct an analysis of recent conversations posted on Twitter for the purposes of determining the communication strategies followed by NGOs and how Coca Cola must engage on social media."
   ]
  },
  {
   "cell_type": "code",
   "execution_count": null,
   "id": "driving-expert",
   "metadata": {},
   "outputs": [],
   "source": []
  },
  {
   "cell_type": "code",
   "execution_count": 1,
   "id": "solar-disco",
   "metadata": {},
   "outputs": [],
   "source": [
    "import pandas as pd"
   ]
  },
  {
   "cell_type": "code",
   "execution_count": 2,
   "id": "australian-monaco",
   "metadata": {},
   "outputs": [
    {
     "data": {
      "text/html": [
       "<style>.container { width:100% !important; }</style>"
      ],
      "text/plain": [
       "<IPython.core.display.HTML object>"
      ]
     },
     "metadata": {},
     "output_type": "display_data"
    }
   ],
   "source": [
    "from IPython.core.display import display, HTML\n",
    "display(HTML(\"<style>.container { width:100% !important; }</style>\"))"
   ]
  },
  {
   "cell_type": "code",
   "execution_count": 3,
   "id": "derived-boundary",
   "metadata": {},
   "outputs": [],
   "source": [
    "pd.options.display.max_colwidth = 400"
   ]
  },
  {
   "cell_type": "code",
   "execution_count": 5,
   "id": "educational-juvenile",
   "metadata": {},
   "outputs": [],
   "source": [
    "\n",
    "\n",
    "ConversationsLean=pd.read_csv('../data/ConversationsLean.csv')"
   ]
  },
  {
   "cell_type": "code",
   "execution_count": 6,
   "id": "moving-university",
   "metadata": {},
   "outputs": [
    {
     "name": "stdout",
     "output_type": "stream",
     "text": [
      "<class 'pandas.core.frame.DataFrame'>\n",
      "RangeIndex: 447 entries, 0 to 446\n",
      "Data columns (total 31 columns):\n",
      " #   Column                       Non-Null Count  Dtype  \n",
      "---  ------                       --------------  -----  \n",
      " 0   Unnamed: 0                   447 non-null    int64  \n",
      " 1   tweet.created_at             447 non-null    object \n",
      " 2   tweet.id                     447 non-null    float64\n",
      " 3   tweet.full_text              447 non-null    object \n",
      " 4   tweet.entities               447 non-null    object \n",
      " 5   tweet.user.id                447 non-null    int64  \n",
      " 6   tweet.user.screen_name       447 non-null    object \n",
      " 7   tweet.user.followers_count   447 non-null    int64  \n",
      " 8   tweet.user.friends_count     447 non-null    int64  \n",
      " 9   tweet.user.favourites_count  447 non-null    int64  \n",
      " 10  tweet.user.statuses_count    447 non-null    int64  \n",
      " 11  tweet.retweet_count          447 non-null    float64\n",
      " 12  tweet.favorite_count         447 non-null    float64\n",
      " 13  tweet.favorited              447 non-null    bool   \n",
      " 14  tweet.retweeted              447 non-null    bool   \n",
      " 15  tweet.lang                   447 non-null    object \n",
      " 16  fetchedAt                    447 non-null    object \n",
      " 17  tweet.full_text_clean        447 non-null    object \n",
      " 18  anger                        447 non-null    float64\n",
      " 19  fear                         447 non-null    float64\n",
      " 20  joy                          447 non-null    float64\n",
      " 21  love                         447 non-null    float64\n",
      " 22  sadness                      447 non-null    float64\n",
      " 23  trust                        447 non-null    float64\n",
      " 24  identity_hate                447 non-null    float64\n",
      " 25  insult                       447 non-null    float64\n",
      " 26  obscene                      447 non-null    float64\n",
      " 27  severe_toxic                 447 non-null    float64\n",
      " 28  threat                       447 non-null    float64\n",
      " 29  toxic                        447 non-null    float64\n",
      " 30  stakeholder                  440 non-null    object \n",
      "dtypes: bool(2), float64(15), int64(6), object(8)\n",
      "memory usage: 102.3+ KB\n"
     ]
    }
   ],
   "source": [
    "ConversationsLean.info()"
   ]
  },
  {
   "cell_type": "code",
   "execution_count": 7,
   "id": "thorough-bidding",
   "metadata": {},
   "outputs": [
    {
     "data": {
      "text/plain": [
       "Unnamed: 0                                                                                                                                                                                                                                                                                                                                                                                                                                   4\n",
       "tweet.created_at                                                                                                                                                                                                                                                                                                                                                                                                    2019-12-17 19:50:37.000000\n",
       "tweet.id                                                                                                                                                                                                                                                                                                                                                                                                                           1.20703e+18\n",
       "tweet.full_text                                                                                                                                                                                                                               Stop plastic pollution at its source. #NoPttGlobalCracker  @GCNewsL @GovMikeDeWine protect our kids’ health and #SavetheOhioRiver #PlanetOrPlastic #BreakFreeFromPlastic https://t.co/xYq2gjm2TY\n",
       "tweet.entities                 {'hashtags': [{'text': 'NoPttGlobalCracker', 'indices': [38, 57]}, {'text': 'SavetheOhioRiver', 'indices': [112, 129]}, {'text': 'PlanetOrPlastic', 'indices': [130, 146]}, {'text': 'BreakFreeFromPlastic', 'indices': [147, 168]}], 'symbols': [], 'user_mentions': [{'screen_name': 'GCNewsl', 'name': 'GCNews', 'id': 1680442778, 'id_str': '1680442778', 'indices': [59, 67]}, {'screen_name': 'GovMike...\n",
       "tweet.user.id                                                                                                                                                                                                                                                                                                                                                                                                                         71310291\n",
       "tweet.user.screen_name                                                                                                                                                                                                                                                                                                                                                                                                         PlasticPollutes\n",
       "tweet.user.followers_count                                                                                                                                                                                                                                                                                                                                                                                                               45953\n",
       "tweet.user.friends_count                                                                                                                                                                                                                                                                                                                                                                                                                  6595\n",
       "tweet.user.favourites_count                                                                                                                                                                                                                                                                                                                                                                                                              13453\n",
       "tweet.user.statuses_count                                                                                                                                                                                                                                                                                                                                                                                                                18732\n",
       "tweet.retweet_count                                                                                                                                                                                                                                                                                                                                                                                                                          4\n",
       "tweet.favorite_count                                                                                                                                                                                                                                                                                                                                                                                                                        12\n",
       "tweet.favorited                                                                                                                                                                                                                                                                                                                                                                                                                          False\n",
       "tweet.retweeted                                                                                                                                                                                                                                                                                                                                                                                                                          False\n",
       "tweet.lang                                                                                                                                                                                                                                                                                                                                                                                                                                  en\n",
       "fetchedAt                                                                                                                                                                                                                                                                                                                                                                                                           2019-12-29 07:02:29.624132\n",
       "tweet.full_text_clean                                                                                                                                                                                                                                                                                                                                               Stop plastic pollution at its source.     protect our kids’ health and    \n",
       "anger                                                                                                                                                                                                                                                                                                                                                                                                                                   0.1169\n",
       "fear                                                                                                                                                                                                                                                                                                                                                                                                                                  0.206122\n",
       "joy                                                                                                                                                                                                                                                                                                                                                                                                                                     0.4375\n",
       "love                                                                                                                                                                                                                                                                                                                                                                                                                                 0.0423767\n",
       "sadness                                                                                                                                                                                                                                                                                                                                                                                                                               0.211166\n",
       "trust                                                                                                                                                                                                                                                                                                                                                                                                                                0.0418169\n",
       "identity_hate                                                                                                                                                                                                                                                                                                                                                                                                                       0.00188033\n",
       "insult                                                                                                                                                                                                                                                                                                                                                                                                                              0.00336857\n",
       "obscene                                                                                                                                                                                                                                                                                                                                                                                                                             0.00359257\n",
       "severe_toxic                                                                                                                                                                                                                                                                                                                                                                                                                        0.00188861\n",
       "threat                                                                                                                                                                                                                                                                                                                                                                                                                              0.00197363\n",
       "toxic                                                                                                                                                                                                                                                                                                                                                                                                                                 0.011558\n",
       "stakeholder                                                                                                                                                                                                                                                                                                                                                                                                                                NGO\n",
       "Name: 50, dtype: object"
      ]
     },
     "execution_count": 7,
     "metadata": {},
     "output_type": "execute_result"
    }
   ],
   "source": [
    "ConversationsLean.iloc[50]"
   ]
  },
  {
   "cell_type": "code",
   "execution_count": 8,
   "id": "deluxe-disposition",
   "metadata": {},
   "outputs": [
    {
     "data": {
      "text/html": [
       "<div>\n",
       "<style scoped>\n",
       "    .dataframe tbody tr th:only-of-type {\n",
       "        vertical-align: middle;\n",
       "    }\n",
       "\n",
       "    .dataframe tbody tr th {\n",
       "        vertical-align: top;\n",
       "    }\n",
       "\n",
       "    .dataframe thead th {\n",
       "        text-align: right;\n",
       "    }\n",
       "</style>\n",
       "<table border=\"1\" class=\"dataframe\">\n",
       "  <thead>\n",
       "    <tr style=\"text-align: right;\">\n",
       "      <th></th>\n",
       "      <th>Unnamed: 0</th>\n",
       "      <th>tweet.created_at</th>\n",
       "      <th>tweet.id</th>\n",
       "      <th>tweet.full_text</th>\n",
       "      <th>tweet.entities</th>\n",
       "      <th>tweet.user.id</th>\n",
       "      <th>tweet.user.screen_name</th>\n",
       "      <th>tweet.user.followers_count</th>\n",
       "      <th>tweet.user.friends_count</th>\n",
       "      <th>tweet.user.favourites_count</th>\n",
       "      <th>...</th>\n",
       "      <th>love</th>\n",
       "      <th>sadness</th>\n",
       "      <th>trust</th>\n",
       "      <th>identity_hate</th>\n",
       "      <th>insult</th>\n",
       "      <th>obscene</th>\n",
       "      <th>severe_toxic</th>\n",
       "      <th>threat</th>\n",
       "      <th>toxic</th>\n",
       "      <th>stakeholder</th>\n",
       "    </tr>\n",
       "  </thead>\n",
       "  <tbody>\n",
       "    <tr>\n",
       "      <th>356</th>\n",
       "      <td>10</td>\n",
       "      <td>2019-10-14 00:10:04.000000</td>\n",
       "      <td>1.183535e+18</td>\n",
       "      <td>New evidence points to microplastics’ toxic impact on the human body. #plasticpollutes #plasticispoison https://t.co/GcROUP3vTE</td>\n",
       "      <td>{'hashtags': [{'text': 'plasticpollutes', 'indices': [70, 86]}, {'text': 'plasticispoison', 'indices': [87, 103]}], 'symbols': [], 'user_mentions': [], 'urls': [], 'media': [{'id': 1183535405519572993, 'id_str': '1183535405519572993', 'indices': [104, 127], 'media_url': 'http://pbs.twimg.com/media/EGzDLkEXkAE5vGP.jpg', 'media_url_https': 'https://pbs.twimg.com/media/EGzDLkEXkAE5vGP.jpg', 'url'...</td>\n",
       "      <td>71310291</td>\n",
       "      <td>PlasticPollutes</td>\n",
       "      <td>45953</td>\n",
       "      <td>6595</td>\n",
       "      <td>13453</td>\n",
       "      <td>...</td>\n",
       "      <td>0.059557</td>\n",
       "      <td>0.191977</td>\n",
       "      <td>0.047648</td>\n",
       "      <td>0.002151</td>\n",
       "      <td>0.003197</td>\n",
       "      <td>0.003009</td>\n",
       "      <td>0.002058</td>\n",
       "      <td>0.002039</td>\n",
       "      <td>0.008278</td>\n",
       "      <td>NGO</td>\n",
       "    </tr>\n",
       "    <tr>\n",
       "      <th>44</th>\n",
       "      <td>44</td>\n",
       "      <td>2019-02-04 18:22:07.000000</td>\n",
       "      <td>1.092488e+18</td>\n",
       "      <td>From reinventing plastic packaging through the use of new materials to funding local #recycling programs, we’re striving to build a world where plastics need never become waste. Explore more: https://t.co/nDzrnRSkYg #PwP2025 https://t.co/B3UbEkdsmu</td>\n",
       "      <td>{'hashtags': [{'text': 'recycling', 'indices': [85, 95]}, {'text': 'PwP2025', 'indices': [216, 224]}], 'symbols': [], 'user_mentions': [], 'urls': [{'url': 'https://t.co/nDzrnRSkYg', 'expanded_url': 'https://pepsi.co/2WE3xXf', 'display_url': 'pepsi.co/2WE3xXf', 'indices': [192, 215]}], 'media': [{'id': 1092488485905354753, 'id_str': '1092488485905354753', 'indices': [225, 248], 'media_url': 'h...</td>\n",
       "      <td>21346619</td>\n",
       "      <td>PepsiCo</td>\n",
       "      <td>341175</td>\n",
       "      <td>13732</td>\n",
       "      <td>1194</td>\n",
       "      <td>...</td>\n",
       "      <td>0.082896</td>\n",
       "      <td>0.100178</td>\n",
       "      <td>0.060068</td>\n",
       "      <td>0.002352</td>\n",
       "      <td>0.002787</td>\n",
       "      <td>0.002675</td>\n",
       "      <td>0.002262</td>\n",
       "      <td>0.002396</td>\n",
       "      <td>0.004284</td>\n",
       "      <td>Multinational</td>\n",
       "    </tr>\n",
       "    <tr>\n",
       "      <th>99</th>\n",
       "      <td>53</td>\n",
       "      <td>2018-07-11 20:53:38.000000</td>\n",
       "      <td>1.017150e+18</td>\n",
       "      <td>RT @SBeekeeper: Just say No to plastic, it's easy, Humans have been plastic-free for millions of years. \\n#PlasticBan #plasticfree #Plastic…</td>\n",
       "      <td>{'hashtags': [{'text': 'PlasticBan', 'indices': [105, 116]}, {'text': 'plasticfree', 'indices': [117, 129]}, {'text': 'Plastic', 'indices': [130, 138]}], 'symbols': [], 'user_mentions': [{'screen_name': 'SBeekeeper', 'name': 'Stephanie Beekeeper (⧖)', 'id': 830161024359788547, 'id_str': '830161024359788547', 'indices': [3, 14]}], 'urls': []}</td>\n",
       "      <td>71310291</td>\n",
       "      <td>PlasticPollutes</td>\n",
       "      <td>45953</td>\n",
       "      <td>6595</td>\n",
       "      <td>13453</td>\n",
       "      <td>...</td>\n",
       "      <td>0.055631</td>\n",
       "      <td>0.093511</td>\n",
       "      <td>0.062815</td>\n",
       "      <td>0.002167</td>\n",
       "      <td>0.003290</td>\n",
       "      <td>0.003328</td>\n",
       "      <td>0.001883</td>\n",
       "      <td>0.001860</td>\n",
       "      <td>0.011110</td>\n",
       "      <td>NGO</td>\n",
       "    </tr>\n",
       "  </tbody>\n",
       "</table>\n",
       "<p>3 rows × 31 columns</p>\n",
       "</div>"
      ],
      "text/plain": [
       "     Unnamed: 0            tweet.created_at      tweet.id  \\\n",
       "356          10  2019-10-14 00:10:04.000000  1.183535e+18   \n",
       "44           44  2019-02-04 18:22:07.000000  1.092488e+18   \n",
       "99           53  2018-07-11 20:53:38.000000  1.017150e+18   \n",
       "\n",
       "                                                                                                                                                                                                                                              tweet.full_text  \\\n",
       "356                                                                                                                           New evidence points to microplastics’ toxic impact on the human body. #plasticpollutes #plasticispoison https://t.co/GcROUP3vTE   \n",
       "44   From reinventing plastic packaging through the use of new materials to funding local #recycling programs, we’re striving to build a world where plastics need never become waste. Explore more: https://t.co/nDzrnRSkYg #PwP2025 https://t.co/B3UbEkdsmu   \n",
       "99                                                                                                               RT @SBeekeeper: Just say No to plastic, it's easy, Humans have been plastic-free for millions of years. \\n#PlasticBan #plasticfree #Plastic…   \n",
       "\n",
       "                                                                                                                                                                                                                                                                                                                                                                                                      tweet.entities  \\\n",
       "356  {'hashtags': [{'text': 'plasticpollutes', 'indices': [70, 86]}, {'text': 'plasticispoison', 'indices': [87, 103]}], 'symbols': [], 'user_mentions': [], 'urls': [], 'media': [{'id': 1183535405519572993, 'id_str': '1183535405519572993', 'indices': [104, 127], 'media_url': 'http://pbs.twimg.com/media/EGzDLkEXkAE5vGP.jpg', 'media_url_https': 'https://pbs.twimg.com/media/EGzDLkEXkAE5vGP.jpg', 'url'...   \n",
       "44   {'hashtags': [{'text': 'recycling', 'indices': [85, 95]}, {'text': 'PwP2025', 'indices': [216, 224]}], 'symbols': [], 'user_mentions': [], 'urls': [{'url': 'https://t.co/nDzrnRSkYg', 'expanded_url': 'https://pepsi.co/2WE3xXf', 'display_url': 'pepsi.co/2WE3xXf', 'indices': [192, 215]}], 'media': [{'id': 1092488485905354753, 'id_str': '1092488485905354753', 'indices': [225, 248], 'media_url': 'h...   \n",
       "99                                                           {'hashtags': [{'text': 'PlasticBan', 'indices': [105, 116]}, {'text': 'plasticfree', 'indices': [117, 129]}, {'text': 'Plastic', 'indices': [130, 138]}], 'symbols': [], 'user_mentions': [{'screen_name': 'SBeekeeper', 'name': 'Stephanie Beekeeper (⧖)', 'id': 830161024359788547, 'id_str': '830161024359788547', 'indices': [3, 14]}], 'urls': []}   \n",
       "\n",
       "     tweet.user.id tweet.user.screen_name  tweet.user.followers_count  \\\n",
       "356       71310291        PlasticPollutes                       45953   \n",
       "44        21346619                PepsiCo                      341175   \n",
       "99        71310291        PlasticPollutes                       45953   \n",
       "\n",
       "     tweet.user.friends_count  tweet.user.favourites_count  ...      love  \\\n",
       "356                      6595                        13453  ...  0.059557   \n",
       "44                      13732                         1194  ...  0.082896   \n",
       "99                       6595                        13453  ...  0.055631   \n",
       "\n",
       "      sadness     trust  identity_hate    insult   obscene severe_toxic  \\\n",
       "356  0.191977  0.047648       0.002151  0.003197  0.003009     0.002058   \n",
       "44   0.100178  0.060068       0.002352  0.002787  0.002675     0.002262   \n",
       "99   0.093511  0.062815       0.002167  0.003290  0.003328     0.001883   \n",
       "\n",
       "       threat     toxic    stakeholder  \n",
       "356  0.002039  0.008278            NGO  \n",
       "44   0.002396  0.004284  Multinational  \n",
       "99   0.001860  0.011110            NGO  \n",
       "\n",
       "[3 rows x 31 columns]"
      ]
     },
     "execution_count": 8,
     "metadata": {},
     "output_type": "execute_result"
    }
   ],
   "source": [
    "ConversationsLean.sample(3)"
   ]
  },
  {
   "cell_type": "code",
   "execution_count": 9,
   "id": "soviet-upset",
   "metadata": {},
   "outputs": [
    {
     "data": {
      "text/html": [
       "<div>\n",
       "<style scoped>\n",
       "    .dataframe tbody tr th:only-of-type {\n",
       "        vertical-align: middle;\n",
       "    }\n",
       "\n",
       "    .dataframe tbody tr th {\n",
       "        vertical-align: top;\n",
       "    }\n",
       "\n",
       "    .dataframe thead th {\n",
       "        text-align: right;\n",
       "    }\n",
       "</style>\n",
       "<table border=\"1\" class=\"dataframe\">\n",
       "  <thead>\n",
       "    <tr style=\"text-align: right;\">\n",
       "      <th></th>\n",
       "      <th>Unnamed: 0</th>\n",
       "      <th>tweet.created_at</th>\n",
       "      <th>tweet.id</th>\n",
       "      <th>tweet.full_text</th>\n",
       "      <th>tweet.entities</th>\n",
       "      <th>tweet.user.id</th>\n",
       "      <th>tweet.user.screen_name</th>\n",
       "      <th>tweet.user.followers_count</th>\n",
       "      <th>tweet.user.friends_count</th>\n",
       "      <th>tweet.user.favourites_count</th>\n",
       "      <th>...</th>\n",
       "      <th>joy</th>\n",
       "      <th>love</th>\n",
       "      <th>sadness</th>\n",
       "      <th>trust</th>\n",
       "      <th>identity_hate</th>\n",
       "      <th>insult</th>\n",
       "      <th>obscene</th>\n",
       "      <th>severe_toxic</th>\n",
       "      <th>threat</th>\n",
       "      <th>toxic</th>\n",
       "    </tr>\n",
       "    <tr>\n",
       "      <th>stakeholder</th>\n",
       "      <th></th>\n",
       "      <th></th>\n",
       "      <th></th>\n",
       "      <th></th>\n",
       "      <th></th>\n",
       "      <th></th>\n",
       "      <th></th>\n",
       "      <th></th>\n",
       "      <th></th>\n",
       "      <th></th>\n",
       "      <th></th>\n",
       "      <th></th>\n",
       "      <th></th>\n",
       "      <th></th>\n",
       "      <th></th>\n",
       "      <th></th>\n",
       "      <th></th>\n",
       "      <th></th>\n",
       "      <th></th>\n",
       "      <th></th>\n",
       "      <th></th>\n",
       "    </tr>\n",
       "  </thead>\n",
       "  <tbody>\n",
       "    <tr>\n",
       "      <th>Artist</th>\n",
       "      <td>104</td>\n",
       "      <td>104</td>\n",
       "      <td>104</td>\n",
       "      <td>104</td>\n",
       "      <td>104</td>\n",
       "      <td>104</td>\n",
       "      <td>104</td>\n",
       "      <td>104</td>\n",
       "      <td>104</td>\n",
       "      <td>104</td>\n",
       "      <td>...</td>\n",
       "      <td>104</td>\n",
       "      <td>104</td>\n",
       "      <td>104</td>\n",
       "      <td>104</td>\n",
       "      <td>104</td>\n",
       "      <td>104</td>\n",
       "      <td>104</td>\n",
       "      <td>104</td>\n",
       "      <td>104</td>\n",
       "      <td>104</td>\n",
       "    </tr>\n",
       "    <tr>\n",
       "      <th>Multinational</th>\n",
       "      <td>20</td>\n",
       "      <td>20</td>\n",
       "      <td>20</td>\n",
       "      <td>20</td>\n",
       "      <td>20</td>\n",
       "      <td>20</td>\n",
       "      <td>20</td>\n",
       "      <td>20</td>\n",
       "      <td>20</td>\n",
       "      <td>20</td>\n",
       "      <td>...</td>\n",
       "      <td>20</td>\n",
       "      <td>20</td>\n",
       "      <td>20</td>\n",
       "      <td>20</td>\n",
       "      <td>20</td>\n",
       "      <td>20</td>\n",
       "      <td>20</td>\n",
       "      <td>20</td>\n",
       "      <td>20</td>\n",
       "      <td>20</td>\n",
       "    </tr>\n",
       "    <tr>\n",
       "      <th>NGO</th>\n",
       "      <td>241</td>\n",
       "      <td>241</td>\n",
       "      <td>241</td>\n",
       "      <td>241</td>\n",
       "      <td>241</td>\n",
       "      <td>241</td>\n",
       "      <td>241</td>\n",
       "      <td>241</td>\n",
       "      <td>241</td>\n",
       "      <td>241</td>\n",
       "      <td>...</td>\n",
       "      <td>241</td>\n",
       "      <td>241</td>\n",
       "      <td>241</td>\n",
       "      <td>241</td>\n",
       "      <td>241</td>\n",
       "      <td>241</td>\n",
       "      <td>241</td>\n",
       "      <td>241</td>\n",
       "      <td>241</td>\n",
       "      <td>241</td>\n",
       "    </tr>\n",
       "    <tr>\n",
       "      <th>OtherInstitution</th>\n",
       "      <td>51</td>\n",
       "      <td>51</td>\n",
       "      <td>51</td>\n",
       "      <td>51</td>\n",
       "      <td>51</td>\n",
       "      <td>51</td>\n",
       "      <td>51</td>\n",
       "      <td>51</td>\n",
       "      <td>51</td>\n",
       "      <td>51</td>\n",
       "      <td>...</td>\n",
       "      <td>51</td>\n",
       "      <td>51</td>\n",
       "      <td>51</td>\n",
       "      <td>51</td>\n",
       "      <td>51</td>\n",
       "      <td>51</td>\n",
       "      <td>51</td>\n",
       "      <td>51</td>\n",
       "      <td>51</td>\n",
       "      <td>51</td>\n",
       "    </tr>\n",
       "    <tr>\n",
       "      <th>Scientific</th>\n",
       "      <td>24</td>\n",
       "      <td>24</td>\n",
       "      <td>24</td>\n",
       "      <td>24</td>\n",
       "      <td>24</td>\n",
       "      <td>24</td>\n",
       "      <td>24</td>\n",
       "      <td>24</td>\n",
       "      <td>24</td>\n",
       "      <td>24</td>\n",
       "      <td>...</td>\n",
       "      <td>24</td>\n",
       "      <td>24</td>\n",
       "      <td>24</td>\n",
       "      <td>24</td>\n",
       "      <td>24</td>\n",
       "      <td>24</td>\n",
       "      <td>24</td>\n",
       "      <td>24</td>\n",
       "      <td>24</td>\n",
       "      <td>24</td>\n",
       "    </tr>\n",
       "  </tbody>\n",
       "</table>\n",
       "<p>5 rows × 30 columns</p>\n",
       "</div>"
      ],
      "text/plain": [
       "                  Unnamed: 0  tweet.created_at  tweet.id  tweet.full_text  \\\n",
       "stakeholder                                                                 \n",
       "Artist                   104               104       104              104   \n",
       "Multinational             20                20        20               20   \n",
       "NGO                      241               241       241              241   \n",
       "OtherInstitution          51                51        51               51   \n",
       "Scientific                24                24        24               24   \n",
       "\n",
       "                  tweet.entities  tweet.user.id  tweet.user.screen_name  \\\n",
       "stakeholder                                                               \n",
       "Artist                       104            104                     104   \n",
       "Multinational                 20             20                      20   \n",
       "NGO                          241            241                     241   \n",
       "OtherInstitution              51             51                      51   \n",
       "Scientific                    24             24                      24   \n",
       "\n",
       "                  tweet.user.followers_count  tweet.user.friends_count  \\\n",
       "stakeholder                                                              \n",
       "Artist                                   104                       104   \n",
       "Multinational                             20                        20   \n",
       "NGO                                      241                       241   \n",
       "OtherInstitution                          51                        51   \n",
       "Scientific                                24                        24   \n",
       "\n",
       "                  tweet.user.favourites_count  ...  joy  love  sadness  trust  \\\n",
       "stakeholder                                    ...                              \n",
       "Artist                                    104  ...  104   104      104    104   \n",
       "Multinational                              20  ...   20    20       20     20   \n",
       "NGO                                       241  ...  241   241      241    241   \n",
       "OtherInstitution                           51  ...   51    51       51     51   \n",
       "Scientific                                 24  ...   24    24       24     24   \n",
       "\n",
       "                  identity_hate  insult  obscene  severe_toxic  threat  toxic  \n",
       "stakeholder                                                                    \n",
       "Artist                      104     104      104           104     104    104  \n",
       "Multinational                20      20       20            20      20     20  \n",
       "NGO                         241     241      241           241     241    241  \n",
       "OtherInstitution             51      51       51            51      51     51  \n",
       "Scientific                   24      24       24            24      24     24  \n",
       "\n",
       "[5 rows x 30 columns]"
      ]
     },
     "execution_count": 9,
     "metadata": {},
     "output_type": "execute_result"
    }
   ],
   "source": [
    "ConversationsLean.groupby('stakeholder').count()"
   ]
  },
  {
   "cell_type": "code",
   "execution_count": null,
   "id": "graduate-answer",
   "metadata": {},
   "outputs": [],
   "source": []
  },
  {
   "cell_type": "markdown",
   "id": "hawaiian-bracelet",
   "metadata": {},
   "source": [
    "## Task 1. Which Twitter users are the most popular ? (10%)\n",
    "### For each Task please: (1) develop the code required and (2) provide a brief discussion and interpretation of the results"
   ]
  },
  {
   "cell_type": "markdown",
   "id": "continued-programming",
   "metadata": {},
   "source": [
    "### Tip: consider retweet and favorite counts as proxies for popularity"
   ]
  },
  {
   "cell_type": "code",
   "execution_count": null,
   "id": "honey-paint",
   "metadata": {},
   "outputs": [],
   "source": []
  },
  {
   "cell_type": "code",
   "execution_count": null,
   "id": "dominant-nightmare",
   "metadata": {},
   "outputs": [],
   "source": []
  },
  {
   "cell_type": "code",
   "execution_count": null,
   "id": "surgical-removal",
   "metadata": {},
   "outputs": [],
   "source": []
  },
  {
   "cell_type": "code",
   "execution_count": null,
   "id": "cooked-karen",
   "metadata": {},
   "outputs": [],
   "source": []
  },
  {
   "cell_type": "markdown",
   "id": "yellow-backup",
   "metadata": {},
   "source": [
    "## Task 2. Which Stakeholders users are the most emotional ? (10%)\n",
    "### For each Task please: (1) develop the code required and (2) provide a brief discussion and interpretation of the results"
   ]
  },
  {
   "cell_type": "markdown",
   "id": "genuine-hostel",
   "metadata": {},
   "source": [
    "### Tip: visualize levels of emotions accross stakeholders (NGOs, artists, Multinational)"
   ]
  },
  {
   "cell_type": "code",
   "execution_count": null,
   "id": "apart-fight",
   "metadata": {},
   "outputs": [],
   "source": []
  },
  {
   "cell_type": "code",
   "execution_count": null,
   "id": "spoken-scholar",
   "metadata": {},
   "outputs": [],
   "source": []
  },
  {
   "cell_type": "code",
   "execution_count": null,
   "id": "owned-brazilian",
   "metadata": {},
   "outputs": [],
   "source": []
  },
  {
   "cell_type": "markdown",
   "id": "surprised-software",
   "metadata": {},
   "source": [
    "## Task 3. Do emotions play a role in the number of retweets and favorites achieved by tweets ? (20 %)\n",
    "### For each Task please: (1) develop the code required and (2) provide a brief discussion and interpretation of the results"
   ]
  },
  {
   "cell_type": "markdown",
   "id": "future-aircraft",
   "metadata": {},
   "source": [
    "### Tip:  correlations between variables\n",
    "### Tip:  visualizations relating variables\n",
    "### Tip:  optionally consider basic regression models to determine the impact of some variables on others (e.g. impact of love on favorite, impact of fear on retweet)"
   ]
  },
  {
   "cell_type": "code",
   "execution_count": null,
   "id": "public-winning",
   "metadata": {},
   "outputs": [],
   "source": []
  },
  {
   "cell_type": "code",
   "execution_count": null,
   "id": "incorporate-riding",
   "metadata": {},
   "outputs": [],
   "source": []
  },
  {
   "cell_type": "code",
   "execution_count": null,
   "id": "aggregate-asbestos",
   "metadata": {},
   "outputs": [],
   "source": []
  },
  {
   "cell_type": "code",
   "execution_count": null,
   "id": "binding-philip",
   "metadata": {},
   "outputs": [],
   "source": []
  },
  {
   "cell_type": "markdown",
   "id": "capital-stylus",
   "metadata": {},
   "source": [
    "## Task 4. Develop and apply a function which: (1) extracts ALL the hashtags from the column 'tweet.full_text', (2) saves the result as a new column (10%)\n",
    "### For each Task please: (1) develop the code required and (2) provide a brief discussion and interpretation of the results"
   ]
  },
  {
   "cell_type": "markdown",
   "id": "integrated-planet",
   "metadata": {},
   "source": [
    "### Tip: consider lambda functions applied to a dataframe"
   ]
  },
  {
   "cell_type": "markdown",
   "id": "published-reggae",
   "metadata": {},
   "source": [
    "### Tip: refer to the module labs for examples on how to use REGEX in the context of pandas dataframes"
   ]
  },
  {
   "cell_type": "code",
   "execution_count": null,
   "id": "optical-poster",
   "metadata": {},
   "outputs": [],
   "source": []
  },
  {
   "cell_type": "code",
   "execution_count": null,
   "id": "classical-mailing",
   "metadata": {},
   "outputs": [],
   "source": []
  },
  {
   "cell_type": "code",
   "execution_count": null,
   "id": "reflected-sessions",
   "metadata": {},
   "outputs": [],
   "source": []
  },
  {
   "cell_type": "code",
   "execution_count": null,
   "id": "victorian-virus",
   "metadata": {},
   "outputs": [],
   "source": []
  },
  {
   "cell_type": "markdown",
   "id": "fourth-heating",
   "metadata": {},
   "source": [
    "## Task 5. what are the differences between stakeholders ?   (30%)"
   ]
  },
  {
   "cell_type": "markdown",
   "id": "demonstrated-momentum",
   "metadata": {},
   "source": [
    "### Tip: explore differences in terms of emotions, popularity, hashtags used, number of tweets,etc"
   ]
  },
  {
   "cell_type": "code",
   "execution_count": null,
   "id": "injured-agriculture",
   "metadata": {},
   "outputs": [],
   "source": []
  },
  {
   "cell_type": "code",
   "execution_count": null,
   "id": "opening-married",
   "metadata": {},
   "outputs": [],
   "source": []
  },
  {
   "cell_type": "markdown",
   "id": "frozen-devon",
   "metadata": {},
   "source": [
    "## Task 6. what are your recommendations for Coca Cola as far as social media is concerned ?   (20%)"
   ]
  },
  {
   "cell_type": "code",
   "execution_count": null,
   "id": "competent-produce",
   "metadata": {},
   "outputs": [],
   "source": []
  },
  {
   "cell_type": "code",
   "execution_count": null,
   "id": "oriental-grove",
   "metadata": {},
   "outputs": [],
   "source": []
  }
 ],
 "metadata": {
  "kernelspec": {
   "display_name": "Python 3 (ipykernel)",
   "language": "python",
   "name": "python3"
  },
  "language_info": {
   "codemirror_mode": {
    "name": "ipython",
    "version": 3
   },
   "file_extension": ".py",
   "mimetype": "text/x-python",
   "name": "python",
   "nbconvert_exporter": "python",
   "pygments_lexer": "ipython3",
   "version": "3.8.12"
  }
 },
 "nbformat": 4,
 "nbformat_minor": 5
}
